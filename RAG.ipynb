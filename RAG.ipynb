{
  "nbformat": 4,
  "nbformat_minor": 0,
  "metadata": {
    "colab": {
      "provenance": []
    },
    "kernelspec": {
      "name": "python3",
      "display_name": "Python 3"
    },
    "language_info": {
      "name": "python"
    },
    "widgets": {
      "application/vnd.jupyter.widget-state+json": {
        "ce6fcff2dd1d47b5989794dc15fada34": {
          "model_module": "@jupyter-widgets/controls",
          "model_name": "HBoxModel",
          "model_module_version": "1.5.0",
          "state": {
            "_dom_classes": [],
            "_model_module": "@jupyter-widgets/controls",
            "_model_module_version": "1.5.0",
            "_model_name": "HBoxModel",
            "_view_count": null,
            "_view_module": "@jupyter-widgets/controls",
            "_view_module_version": "1.5.0",
            "_view_name": "HBoxView",
            "box_style": "",
            "children": [
              "IPY_MODEL_e29227a1735e43319797ceb4122686af",
              "IPY_MODEL_7f9aa35c746944798f39f3e8d5d50ec1",
              "IPY_MODEL_23ee5dc774d5401fb8ac643352437d8c"
            ],
            "layout": "IPY_MODEL_803f5fb6ec4f497cac0c64346b4f7d2c"
          }
        },
        "e29227a1735e43319797ceb4122686af": {
          "model_module": "@jupyter-widgets/controls",
          "model_name": "HTMLModel",
          "model_module_version": "1.5.0",
          "state": {
            "_dom_classes": [],
            "_model_module": "@jupyter-widgets/controls",
            "_model_module_version": "1.5.0",
            "_model_name": "HTMLModel",
            "_view_count": null,
            "_view_module": "@jupyter-widgets/controls",
            "_view_module_version": "1.5.0",
            "_view_name": "HTMLView",
            "description": "",
            "description_tooltip": null,
            "layout": "IPY_MODEL_e3f2313b75d1422d86c683248ea35db2",
            "placeholder": "​",
            "style": "IPY_MODEL_0d324aef0544462ebaabb7e41c0d830a",
            "value": "100%"
          }
        },
        "7f9aa35c746944798f39f3e8d5d50ec1": {
          "model_module": "@jupyter-widgets/controls",
          "model_name": "FloatProgressModel",
          "model_module_version": "1.5.0",
          "state": {
            "_dom_classes": [],
            "_model_module": "@jupyter-widgets/controls",
            "_model_module_version": "1.5.0",
            "_model_name": "FloatProgressModel",
            "_view_count": null,
            "_view_module": "@jupyter-widgets/controls",
            "_view_module_version": "1.5.0",
            "_view_name": "ProgressView",
            "bar_style": "success",
            "description": "",
            "description_tooltip": null,
            "layout": "IPY_MODEL_74c12fd1292140d09e5bab2fda325b58",
            "max": 4,
            "min": 0,
            "orientation": "horizontal",
            "style": "IPY_MODEL_ce570fc0d93b46f5a98e3c753ed7b771",
            "value": 4
          }
        },
        "23ee5dc774d5401fb8ac643352437d8c": {
          "model_module": "@jupyter-widgets/controls",
          "model_name": "HTMLModel",
          "model_module_version": "1.5.0",
          "state": {
            "_dom_classes": [],
            "_model_module": "@jupyter-widgets/controls",
            "_model_module_version": "1.5.0",
            "_model_name": "HTMLModel",
            "_view_count": null,
            "_view_module": "@jupyter-widgets/controls",
            "_view_module_version": "1.5.0",
            "_view_name": "HTMLView",
            "description": "",
            "description_tooltip": null,
            "layout": "IPY_MODEL_c785256ae96a478aa9c896d45de0f2d2",
            "placeholder": "​",
            "style": "IPY_MODEL_c0819e5f84dc48a9ab9b0f79b22566ef",
            "value": " 4/4 [00:00&lt;00:00, 19.11it/s]"
          }
        },
        "803f5fb6ec4f497cac0c64346b4f7d2c": {
          "model_module": "@jupyter-widgets/base",
          "model_name": "LayoutModel",
          "model_module_version": "1.2.0",
          "state": {
            "_model_module": "@jupyter-widgets/base",
            "_model_module_version": "1.2.0",
            "_model_name": "LayoutModel",
            "_view_count": null,
            "_view_module": "@jupyter-widgets/base",
            "_view_module_version": "1.2.0",
            "_view_name": "LayoutView",
            "align_content": null,
            "align_items": null,
            "align_self": null,
            "border": null,
            "bottom": null,
            "display": null,
            "flex": null,
            "flex_flow": null,
            "grid_area": null,
            "grid_auto_columns": null,
            "grid_auto_flow": null,
            "grid_auto_rows": null,
            "grid_column": null,
            "grid_gap": null,
            "grid_row": null,
            "grid_template_areas": null,
            "grid_template_columns": null,
            "grid_template_rows": null,
            "height": null,
            "justify_content": null,
            "justify_items": null,
            "left": null,
            "margin": null,
            "max_height": null,
            "max_width": null,
            "min_height": null,
            "min_width": null,
            "object_fit": null,
            "object_position": null,
            "order": null,
            "overflow": null,
            "overflow_x": null,
            "overflow_y": null,
            "padding": null,
            "right": null,
            "top": null,
            "visibility": null,
            "width": null
          }
        },
        "e3f2313b75d1422d86c683248ea35db2": {
          "model_module": "@jupyter-widgets/base",
          "model_name": "LayoutModel",
          "model_module_version": "1.2.0",
          "state": {
            "_model_module": "@jupyter-widgets/base",
            "_model_module_version": "1.2.0",
            "_model_name": "LayoutModel",
            "_view_count": null,
            "_view_module": "@jupyter-widgets/base",
            "_view_module_version": "1.2.0",
            "_view_name": "LayoutView",
            "align_content": null,
            "align_items": null,
            "align_self": null,
            "border": null,
            "bottom": null,
            "display": null,
            "flex": null,
            "flex_flow": null,
            "grid_area": null,
            "grid_auto_columns": null,
            "grid_auto_flow": null,
            "grid_auto_rows": null,
            "grid_column": null,
            "grid_gap": null,
            "grid_row": null,
            "grid_template_areas": null,
            "grid_template_columns": null,
            "grid_template_rows": null,
            "height": null,
            "justify_content": null,
            "justify_items": null,
            "left": null,
            "margin": null,
            "max_height": null,
            "max_width": null,
            "min_height": null,
            "min_width": null,
            "object_fit": null,
            "object_position": null,
            "order": null,
            "overflow": null,
            "overflow_x": null,
            "overflow_y": null,
            "padding": null,
            "right": null,
            "top": null,
            "visibility": null,
            "width": null
          }
        },
        "0d324aef0544462ebaabb7e41c0d830a": {
          "model_module": "@jupyter-widgets/controls",
          "model_name": "DescriptionStyleModel",
          "model_module_version": "1.5.0",
          "state": {
            "_model_module": "@jupyter-widgets/controls",
            "_model_module_version": "1.5.0",
            "_model_name": "DescriptionStyleModel",
            "_view_count": null,
            "_view_module": "@jupyter-widgets/base",
            "_view_module_version": "1.2.0",
            "_view_name": "StyleView",
            "description_width": ""
          }
        },
        "74c12fd1292140d09e5bab2fda325b58": {
          "model_module": "@jupyter-widgets/base",
          "model_name": "LayoutModel",
          "model_module_version": "1.2.0",
          "state": {
            "_model_module": "@jupyter-widgets/base",
            "_model_module_version": "1.2.0",
            "_model_name": "LayoutModel",
            "_view_count": null,
            "_view_module": "@jupyter-widgets/base",
            "_view_module_version": "1.2.0",
            "_view_name": "LayoutView",
            "align_content": null,
            "align_items": null,
            "align_self": null,
            "border": null,
            "bottom": null,
            "display": null,
            "flex": null,
            "flex_flow": null,
            "grid_area": null,
            "grid_auto_columns": null,
            "grid_auto_flow": null,
            "grid_auto_rows": null,
            "grid_column": null,
            "grid_gap": null,
            "grid_row": null,
            "grid_template_areas": null,
            "grid_template_columns": null,
            "grid_template_rows": null,
            "height": null,
            "justify_content": null,
            "justify_items": null,
            "left": null,
            "margin": null,
            "max_height": null,
            "max_width": null,
            "min_height": null,
            "min_width": null,
            "object_fit": null,
            "object_position": null,
            "order": null,
            "overflow": null,
            "overflow_x": null,
            "overflow_y": null,
            "padding": null,
            "right": null,
            "top": null,
            "visibility": null,
            "width": null
          }
        },
        "ce570fc0d93b46f5a98e3c753ed7b771": {
          "model_module": "@jupyter-widgets/controls",
          "model_name": "ProgressStyleModel",
          "model_module_version": "1.5.0",
          "state": {
            "_model_module": "@jupyter-widgets/controls",
            "_model_module_version": "1.5.0",
            "_model_name": "ProgressStyleModel",
            "_view_count": null,
            "_view_module": "@jupyter-widgets/base",
            "_view_module_version": "1.2.0",
            "_view_name": "StyleView",
            "bar_color": null,
            "description_width": ""
          }
        },
        "c785256ae96a478aa9c896d45de0f2d2": {
          "model_module": "@jupyter-widgets/base",
          "model_name": "LayoutModel",
          "model_module_version": "1.2.0",
          "state": {
            "_model_module": "@jupyter-widgets/base",
            "_model_module_version": "1.2.0",
            "_model_name": "LayoutModel",
            "_view_count": null,
            "_view_module": "@jupyter-widgets/base",
            "_view_module_version": "1.2.0",
            "_view_name": "LayoutView",
            "align_content": null,
            "align_items": null,
            "align_self": null,
            "border": null,
            "bottom": null,
            "display": null,
            "flex": null,
            "flex_flow": null,
            "grid_area": null,
            "grid_auto_columns": null,
            "grid_auto_flow": null,
            "grid_auto_rows": null,
            "grid_column": null,
            "grid_gap": null,
            "grid_row": null,
            "grid_template_areas": null,
            "grid_template_columns": null,
            "grid_template_rows": null,
            "height": null,
            "justify_content": null,
            "justify_items": null,
            "left": null,
            "margin": null,
            "max_height": null,
            "max_width": null,
            "min_height": null,
            "min_width": null,
            "object_fit": null,
            "object_position": null,
            "order": null,
            "overflow": null,
            "overflow_x": null,
            "overflow_y": null,
            "padding": null,
            "right": null,
            "top": null,
            "visibility": null,
            "width": null
          }
        },
        "c0819e5f84dc48a9ab9b0f79b22566ef": {
          "model_module": "@jupyter-widgets/controls",
          "model_name": "DescriptionStyleModel",
          "model_module_version": "1.5.0",
          "state": {
            "_model_module": "@jupyter-widgets/controls",
            "_model_module_version": "1.5.0",
            "_model_name": "DescriptionStyleModel",
            "_view_count": null,
            "_view_module": "@jupyter-widgets/base",
            "_view_module_version": "1.2.0",
            "_view_name": "StyleView",
            "description_width": ""
          }
        },
        "169d68e572d54a7690fbeac6dc28e9c7": {
          "model_module": "@jupyter-widgets/controls",
          "model_name": "HBoxModel",
          "model_module_version": "1.5.0",
          "state": {
            "_dom_classes": [],
            "_model_module": "@jupyter-widgets/controls",
            "_model_module_version": "1.5.0",
            "_model_name": "HBoxModel",
            "_view_count": null,
            "_view_module": "@jupyter-widgets/controls",
            "_view_module_version": "1.5.0",
            "_view_name": "HBoxView",
            "box_style": "",
            "children": [
              "IPY_MODEL_f9eef01d1bc14fe08b739b3c522ce5f5",
              "IPY_MODEL_d27c4892277d4f5e94564b091c18379e",
              "IPY_MODEL_3af64f63fe4440839d8284635afad424"
            ],
            "layout": "IPY_MODEL_eb6305bf36374ec1ab76007a6a311bfd"
          }
        },
        "f9eef01d1bc14fe08b739b3c522ce5f5": {
          "model_module": "@jupyter-widgets/controls",
          "model_name": "HTMLModel",
          "model_module_version": "1.5.0",
          "state": {
            "_dom_classes": [],
            "_model_module": "@jupyter-widgets/controls",
            "_model_module_version": "1.5.0",
            "_model_name": "HTMLModel",
            "_view_count": null,
            "_view_module": "@jupyter-widgets/controls",
            "_view_module_version": "1.5.0",
            "_view_name": "HTMLView",
            "description": "",
            "description_tooltip": null,
            "layout": "IPY_MODEL_7e52e3a9d8814956b55a5a26783550e3",
            "placeholder": "​",
            "style": "IPY_MODEL_ec54e72485bb4ba99f54991caaacfb88",
            "value": "100%"
          }
        },
        "d27c4892277d4f5e94564b091c18379e": {
          "model_module": "@jupyter-widgets/controls",
          "model_name": "FloatProgressModel",
          "model_module_version": "1.5.0",
          "state": {
            "_dom_classes": [],
            "_model_module": "@jupyter-widgets/controls",
            "_model_module_version": "1.5.0",
            "_model_name": "FloatProgressModel",
            "_view_count": null,
            "_view_module": "@jupyter-widgets/controls",
            "_view_module_version": "1.5.0",
            "_view_name": "ProgressView",
            "bar_style": "success",
            "description": "",
            "description_tooltip": null,
            "layout": "IPY_MODEL_ec971c4617204616bcae46e49e4fe30e",
            "max": 1,
            "min": 0,
            "orientation": "horizontal",
            "style": "IPY_MODEL_5d87ed728fb54abfb25e445e52319613",
            "value": 1
          }
        },
        "3af64f63fe4440839d8284635afad424": {
          "model_module": "@jupyter-widgets/controls",
          "model_name": "HTMLModel",
          "model_module_version": "1.5.0",
          "state": {
            "_dom_classes": [],
            "_model_module": "@jupyter-widgets/controls",
            "_model_module_version": "1.5.0",
            "_model_name": "HTMLModel",
            "_view_count": null,
            "_view_module": "@jupyter-widgets/controls",
            "_view_module_version": "1.5.0",
            "_view_name": "HTMLView",
            "description": "",
            "description_tooltip": null,
            "layout": "IPY_MODEL_f083f80135fc492690e1e5962e33f3c2",
            "placeholder": "​",
            "style": "IPY_MODEL_ce68f98dc8584d6f8747637ce94e9ca3",
            "value": " 1/1 [00:03&lt;00:00,  3.32s/it]"
          }
        },
        "eb6305bf36374ec1ab76007a6a311bfd": {
          "model_module": "@jupyter-widgets/base",
          "model_name": "LayoutModel",
          "model_module_version": "1.2.0",
          "state": {
            "_model_module": "@jupyter-widgets/base",
            "_model_module_version": "1.2.0",
            "_model_name": "LayoutModel",
            "_view_count": null,
            "_view_module": "@jupyter-widgets/base",
            "_view_module_version": "1.2.0",
            "_view_name": "LayoutView",
            "align_content": null,
            "align_items": null,
            "align_self": null,
            "border": null,
            "bottom": null,
            "display": null,
            "flex": null,
            "flex_flow": null,
            "grid_area": null,
            "grid_auto_columns": null,
            "grid_auto_flow": null,
            "grid_auto_rows": null,
            "grid_column": null,
            "grid_gap": null,
            "grid_row": null,
            "grid_template_areas": null,
            "grid_template_columns": null,
            "grid_template_rows": null,
            "height": null,
            "justify_content": null,
            "justify_items": null,
            "left": null,
            "margin": null,
            "max_height": null,
            "max_width": null,
            "min_height": null,
            "min_width": null,
            "object_fit": null,
            "object_position": null,
            "order": null,
            "overflow": null,
            "overflow_x": null,
            "overflow_y": null,
            "padding": null,
            "right": null,
            "top": null,
            "visibility": null,
            "width": null
          }
        },
        "7e52e3a9d8814956b55a5a26783550e3": {
          "model_module": "@jupyter-widgets/base",
          "model_name": "LayoutModel",
          "model_module_version": "1.2.0",
          "state": {
            "_model_module": "@jupyter-widgets/base",
            "_model_module_version": "1.2.0",
            "_model_name": "LayoutModel",
            "_view_count": null,
            "_view_module": "@jupyter-widgets/base",
            "_view_module_version": "1.2.0",
            "_view_name": "LayoutView",
            "align_content": null,
            "align_items": null,
            "align_self": null,
            "border": null,
            "bottom": null,
            "display": null,
            "flex": null,
            "flex_flow": null,
            "grid_area": null,
            "grid_auto_columns": null,
            "grid_auto_flow": null,
            "grid_auto_rows": null,
            "grid_column": null,
            "grid_gap": null,
            "grid_row": null,
            "grid_template_areas": null,
            "grid_template_columns": null,
            "grid_template_rows": null,
            "height": null,
            "justify_content": null,
            "justify_items": null,
            "left": null,
            "margin": null,
            "max_height": null,
            "max_width": null,
            "min_height": null,
            "min_width": null,
            "object_fit": null,
            "object_position": null,
            "order": null,
            "overflow": null,
            "overflow_x": null,
            "overflow_y": null,
            "padding": null,
            "right": null,
            "top": null,
            "visibility": null,
            "width": null
          }
        },
        "ec54e72485bb4ba99f54991caaacfb88": {
          "model_module": "@jupyter-widgets/controls",
          "model_name": "DescriptionStyleModel",
          "model_module_version": "1.5.0",
          "state": {
            "_model_module": "@jupyter-widgets/controls",
            "_model_module_version": "1.5.0",
            "_model_name": "DescriptionStyleModel",
            "_view_count": null,
            "_view_module": "@jupyter-widgets/base",
            "_view_module_version": "1.2.0",
            "_view_name": "StyleView",
            "description_width": ""
          }
        },
        "ec971c4617204616bcae46e49e4fe30e": {
          "model_module": "@jupyter-widgets/base",
          "model_name": "LayoutModel",
          "model_module_version": "1.2.0",
          "state": {
            "_model_module": "@jupyter-widgets/base",
            "_model_module_version": "1.2.0",
            "_model_name": "LayoutModel",
            "_view_count": null,
            "_view_module": "@jupyter-widgets/base",
            "_view_module_version": "1.2.0",
            "_view_name": "LayoutView",
            "align_content": null,
            "align_items": null,
            "align_self": null,
            "border": null,
            "bottom": null,
            "display": null,
            "flex": null,
            "flex_flow": null,
            "grid_area": null,
            "grid_auto_columns": null,
            "grid_auto_flow": null,
            "grid_auto_rows": null,
            "grid_column": null,
            "grid_gap": null,
            "grid_row": null,
            "grid_template_areas": null,
            "grid_template_columns": null,
            "grid_template_rows": null,
            "height": null,
            "justify_content": null,
            "justify_items": null,
            "left": null,
            "margin": null,
            "max_height": null,
            "max_width": null,
            "min_height": null,
            "min_width": null,
            "object_fit": null,
            "object_position": null,
            "order": null,
            "overflow": null,
            "overflow_x": null,
            "overflow_y": null,
            "padding": null,
            "right": null,
            "top": null,
            "visibility": null,
            "width": null
          }
        },
        "5d87ed728fb54abfb25e445e52319613": {
          "model_module": "@jupyter-widgets/controls",
          "model_name": "ProgressStyleModel",
          "model_module_version": "1.5.0",
          "state": {
            "_model_module": "@jupyter-widgets/controls",
            "_model_module_version": "1.5.0",
            "_model_name": "ProgressStyleModel",
            "_view_count": null,
            "_view_module": "@jupyter-widgets/base",
            "_view_module_version": "1.2.0",
            "_view_name": "StyleView",
            "bar_color": null,
            "description_width": ""
          }
        },
        "f083f80135fc492690e1e5962e33f3c2": {
          "model_module": "@jupyter-widgets/base",
          "model_name": "LayoutModel",
          "model_module_version": "1.2.0",
          "state": {
            "_model_module": "@jupyter-widgets/base",
            "_model_module_version": "1.2.0",
            "_model_name": "LayoutModel",
            "_view_count": null,
            "_view_module": "@jupyter-widgets/base",
            "_view_module_version": "1.2.0",
            "_view_name": "LayoutView",
            "align_content": null,
            "align_items": null,
            "align_self": null,
            "border": null,
            "bottom": null,
            "display": null,
            "flex": null,
            "flex_flow": null,
            "grid_area": null,
            "grid_auto_columns": null,
            "grid_auto_flow": null,
            "grid_auto_rows": null,
            "grid_column": null,
            "grid_gap": null,
            "grid_row": null,
            "grid_template_areas": null,
            "grid_template_columns": null,
            "grid_template_rows": null,
            "height": null,
            "justify_content": null,
            "justify_items": null,
            "left": null,
            "margin": null,
            "max_height": null,
            "max_width": null,
            "min_height": null,
            "min_width": null,
            "object_fit": null,
            "object_position": null,
            "order": null,
            "overflow": null,
            "overflow_x": null,
            "overflow_y": null,
            "padding": null,
            "right": null,
            "top": null,
            "visibility": null,
            "width": null
          }
        },
        "ce68f98dc8584d6f8747637ce94e9ca3": {
          "model_module": "@jupyter-widgets/controls",
          "model_name": "DescriptionStyleModel",
          "model_module_version": "1.5.0",
          "state": {
            "_model_module": "@jupyter-widgets/controls",
            "_model_module_version": "1.5.0",
            "_model_name": "DescriptionStyleModel",
            "_view_count": null,
            "_view_module": "@jupyter-widgets/base",
            "_view_module_version": "1.2.0",
            "_view_name": "StyleView",
            "description_width": ""
          }
        }
      }
    }
  },
  "cells": [
    {
      "cell_type": "markdown",
      "source": [
        "# Anurag Velekat\n",
        "## NLP Project\n",
        "## Implementing a RAG based Chat Bot that talks about Chess."
      ],
      "metadata": {
        "id": "I3iCX1Br42Up"
      }
    },
    {
      "cell_type": "code",
      "source": [
        "!pip install --upgrade --quiet pinecone-client pinecone-text pinecone-notebooks"
      ],
      "metadata": {
        "colab": {
          "base_uri": "https://localhost:8080/"
        },
        "id": "EOhkg8v4iVgS",
        "outputId": "ffe97fe4-9035-4e5a-9e77-7300ccd06023"
      },
      "execution_count": null,
      "outputs": [
        {
          "output_type": "stream",
          "name": "stdout",
          "text": [
            "  Preparing metadata (setup.py) ... \u001b[?25l\u001b[?25hdone\n",
            "\u001b[2K   \u001b[90m━━━━━━━━━━━━━━━━━━━━━━━━━━━━━━━━━━━━━━━━\u001b[0m \u001b[32m244.8/244.8 kB\u001b[0m \u001b[31m5.5 MB/s\u001b[0m eta \u001b[36m0:00:00\u001b[0m\n",
            "\u001b[2K   \u001b[90m━━━━━━━━━━━━━━━━━━━━━━━━━━━━━━━━━━━━━━━━\u001b[0m \u001b[32m67.6/67.6 kB\u001b[0m \u001b[31m4.6 MB/s\u001b[0m eta \u001b[36m0:00:00\u001b[0m\n",
            "\u001b[2K   \u001b[90m━━━━━━━━━━━━━━━━━━━━━━━━━━━━━━━━━━━━━━━━\u001b[0m \u001b[32m85.4/85.4 kB\u001b[0m \u001b[31m5.4 MB/s\u001b[0m eta \u001b[36m0:00:00\u001b[0m\n",
            "\u001b[?25h  Building wheel for wget (setup.py) ... \u001b[?25l\u001b[?25hdone\n"
          ]
        }
      ]
    },
    {
      "cell_type": "code",
      "source": [
        "!pip install langchain-community"
      ],
      "metadata": {
        "colab": {
          "base_uri": "https://localhost:8080/"
        },
        "collapsed": true,
        "id": "CkZiQ13di2x5",
        "outputId": "afd567dd-05f8-46f1-a804-d36f87aa0127"
      },
      "execution_count": null,
      "outputs": [
        {
          "output_type": "stream",
          "name": "stdout",
          "text": [
            "Collecting langchain-community\n",
            "  Downloading langchain_community-0.3.7-py3-none-any.whl.metadata (2.9 kB)\n",
            "Requirement already satisfied: PyYAML>=5.3 in /usr/local/lib/python3.10/dist-packages (from langchain-community) (6.0.2)\n",
            "Collecting SQLAlchemy<2.0.36,>=1.4 (from langchain-community)\n",
            "  Downloading SQLAlchemy-2.0.35-cp310-cp310-manylinux_2_17_x86_64.manylinux2014_x86_64.whl.metadata (9.6 kB)\n",
            "Requirement already satisfied: aiohttp<4.0.0,>=3.8.3 in /usr/local/lib/python3.10/dist-packages (from langchain-community) (3.10.10)\n",
            "Collecting dataclasses-json<0.7,>=0.5.7 (from langchain-community)\n",
            "  Downloading dataclasses_json-0.6.7-py3-none-any.whl.metadata (25 kB)\n",
            "Collecting httpx-sse<0.5.0,>=0.4.0 (from langchain-community)\n",
            "  Downloading httpx_sse-0.4.0-py3-none-any.whl.metadata (9.0 kB)\n",
            "Requirement already satisfied: langchain<0.4.0,>=0.3.7 in /usr/local/lib/python3.10/dist-packages (from langchain-community) (0.3.7)\n",
            "Requirement already satisfied: langchain-core<0.4.0,>=0.3.17 in /usr/local/lib/python3.10/dist-packages (from langchain-community) (0.3.17)\n",
            "Requirement already satisfied: langsmith<0.2.0,>=0.1.125 in /usr/local/lib/python3.10/dist-packages (from langchain-community) (0.1.142)\n",
            "Requirement already satisfied: numpy<2,>=1 in /usr/local/lib/python3.10/dist-packages (from langchain-community) (1.26.4)\n",
            "Collecting pydantic-settings<3.0.0,>=2.4.0 (from langchain-community)\n",
            "  Downloading pydantic_settings-2.6.1-py3-none-any.whl.metadata (3.5 kB)\n",
            "Requirement already satisfied: requests<3,>=2 in /usr/local/lib/python3.10/dist-packages (from langchain-community) (2.32.3)\n",
            "Requirement already satisfied: tenacity!=8.4.0,<10,>=8.1.0 in /usr/local/lib/python3.10/dist-packages (from langchain-community) (9.0.0)\n",
            "Requirement already satisfied: aiohappyeyeballs>=2.3.0 in /usr/local/lib/python3.10/dist-packages (from aiohttp<4.0.0,>=3.8.3->langchain-community) (2.4.3)\n",
            "Requirement already satisfied: aiosignal>=1.1.2 in /usr/local/lib/python3.10/dist-packages (from aiohttp<4.0.0,>=3.8.3->langchain-community) (1.3.1)\n",
            "Requirement already satisfied: attrs>=17.3.0 in /usr/local/lib/python3.10/dist-packages (from aiohttp<4.0.0,>=3.8.3->langchain-community) (24.2.0)\n",
            "Requirement already satisfied: frozenlist>=1.1.1 in /usr/local/lib/python3.10/dist-packages (from aiohttp<4.0.0,>=3.8.3->langchain-community) (1.5.0)\n",
            "Requirement already satisfied: multidict<7.0,>=4.5 in /usr/local/lib/python3.10/dist-packages (from aiohttp<4.0.0,>=3.8.3->langchain-community) (6.1.0)\n",
            "Requirement already satisfied: yarl<2.0,>=1.12.0 in /usr/local/lib/python3.10/dist-packages (from aiohttp<4.0.0,>=3.8.3->langchain-community) (1.17.1)\n",
            "Requirement already satisfied: async-timeout<5.0,>=4.0 in /usr/local/lib/python3.10/dist-packages (from aiohttp<4.0.0,>=3.8.3->langchain-community) (4.0.3)\n",
            "Collecting marshmallow<4.0.0,>=3.18.0 (from dataclasses-json<0.7,>=0.5.7->langchain-community)\n",
            "  Downloading marshmallow-3.23.1-py3-none-any.whl.metadata (7.5 kB)\n",
            "Collecting typing-inspect<1,>=0.4.0 (from dataclasses-json<0.7,>=0.5.7->langchain-community)\n",
            "  Downloading typing_inspect-0.9.0-py3-none-any.whl.metadata (1.5 kB)\n",
            "Requirement already satisfied: langchain-text-splitters<0.4.0,>=0.3.0 in /usr/local/lib/python3.10/dist-packages (from langchain<0.4.0,>=0.3.7->langchain-community) (0.3.2)\n",
            "Requirement already satisfied: pydantic<3.0.0,>=2.7.4 in /usr/local/lib/python3.10/dist-packages (from langchain<0.4.0,>=0.3.7->langchain-community) (2.9.2)\n",
            "Requirement already satisfied: jsonpatch<2.0,>=1.33 in /usr/local/lib/python3.10/dist-packages (from langchain-core<0.4.0,>=0.3.17->langchain-community) (1.33)\n",
            "Requirement already satisfied: packaging<25,>=23.2 in /usr/local/lib/python3.10/dist-packages (from langchain-core<0.4.0,>=0.3.17->langchain-community) (24.2)\n",
            "Requirement already satisfied: typing-extensions>=4.7 in /usr/local/lib/python3.10/dist-packages (from langchain-core<0.4.0,>=0.3.17->langchain-community) (4.12.2)\n",
            "Requirement already satisfied: httpx<1,>=0.23.0 in /usr/local/lib/python3.10/dist-packages (from langsmith<0.2.0,>=0.1.125->langchain-community) (0.27.2)\n",
            "Requirement already satisfied: orjson<4.0.0,>=3.9.14 in /usr/local/lib/python3.10/dist-packages (from langsmith<0.2.0,>=0.1.125->langchain-community) (3.10.11)\n",
            "Requirement already satisfied: requests-toolbelt<2.0.0,>=1.0.0 in /usr/local/lib/python3.10/dist-packages (from langsmith<0.2.0,>=0.1.125->langchain-community) (1.0.0)\n",
            "Requirement already satisfied: python-dotenv>=0.21.0 in /usr/local/lib/python3.10/dist-packages (from pydantic-settings<3.0.0,>=2.4.0->langchain-community) (1.0.1)\n",
            "Requirement already satisfied: charset-normalizer<4,>=2 in /usr/local/lib/python3.10/dist-packages (from requests<3,>=2->langchain-community) (3.4.0)\n",
            "Requirement already satisfied: idna<4,>=2.5 in /usr/local/lib/python3.10/dist-packages (from requests<3,>=2->langchain-community) (3.10)\n",
            "Requirement already satisfied: urllib3<3,>=1.21.1 in /usr/local/lib/python3.10/dist-packages (from requests<3,>=2->langchain-community) (2.2.3)\n",
            "Requirement already satisfied: certifi>=2017.4.17 in /usr/local/lib/python3.10/dist-packages (from requests<3,>=2->langchain-community) (2024.8.30)\n",
            "Requirement already satisfied: greenlet!=0.4.17 in /usr/local/lib/python3.10/dist-packages (from SQLAlchemy<2.0.36,>=1.4->langchain-community) (3.1.1)\n",
            "Requirement already satisfied: anyio in /usr/local/lib/python3.10/dist-packages (from httpx<1,>=0.23.0->langsmith<0.2.0,>=0.1.125->langchain-community) (3.7.1)\n",
            "Requirement already satisfied: httpcore==1.* in /usr/local/lib/python3.10/dist-packages (from httpx<1,>=0.23.0->langsmith<0.2.0,>=0.1.125->langchain-community) (1.0.6)\n",
            "Requirement already satisfied: sniffio in /usr/local/lib/python3.10/dist-packages (from httpx<1,>=0.23.0->langsmith<0.2.0,>=0.1.125->langchain-community) (1.3.1)\n",
            "Requirement already satisfied: h11<0.15,>=0.13 in /usr/local/lib/python3.10/dist-packages (from httpcore==1.*->httpx<1,>=0.23.0->langsmith<0.2.0,>=0.1.125->langchain-community) (0.14.0)\n",
            "Requirement already satisfied: jsonpointer>=1.9 in /usr/local/lib/python3.10/dist-packages (from jsonpatch<2.0,>=1.33->langchain-core<0.4.0,>=0.3.17->langchain-community) (3.0.0)\n",
            "Requirement already satisfied: annotated-types>=0.6.0 in /usr/local/lib/python3.10/dist-packages (from pydantic<3.0.0,>=2.7.4->langchain<0.4.0,>=0.3.7->langchain-community) (0.7.0)\n",
            "Requirement already satisfied: pydantic-core==2.23.4 in /usr/local/lib/python3.10/dist-packages (from pydantic<3.0.0,>=2.7.4->langchain<0.4.0,>=0.3.7->langchain-community) (2.23.4)\n",
            "Collecting mypy-extensions>=0.3.0 (from typing-inspect<1,>=0.4.0->dataclasses-json<0.7,>=0.5.7->langchain-community)\n",
            "  Downloading mypy_extensions-1.0.0-py3-none-any.whl.metadata (1.1 kB)\n",
            "Requirement already satisfied: propcache>=0.2.0 in /usr/local/lib/python3.10/dist-packages (from yarl<2.0,>=1.12.0->aiohttp<4.0.0,>=3.8.3->langchain-community) (0.2.0)\n",
            "Requirement already satisfied: exceptiongroup in /usr/local/lib/python3.10/dist-packages (from anyio->httpx<1,>=0.23.0->langsmith<0.2.0,>=0.1.125->langchain-community) (1.2.2)\n",
            "Downloading langchain_community-0.3.7-py3-none-any.whl (2.4 MB)\n",
            "\u001b[2K   \u001b[90m━━━━━━━━━━━━━━━━━━━━━━━━━━━━━━━━━━━━━━━━\u001b[0m \u001b[32m2.4/2.4 MB\u001b[0m \u001b[31m28.2 MB/s\u001b[0m eta \u001b[36m0:00:00\u001b[0m\n",
            "\u001b[?25hDownloading dataclasses_json-0.6.7-py3-none-any.whl (28 kB)\n",
            "Downloading httpx_sse-0.4.0-py3-none-any.whl (7.8 kB)\n",
            "Downloading pydantic_settings-2.6.1-py3-none-any.whl (28 kB)\n",
            "Downloading SQLAlchemy-2.0.35-cp310-cp310-manylinux_2_17_x86_64.manylinux2014_x86_64.whl (3.1 MB)\n",
            "\u001b[2K   \u001b[90m━━━━━━━━━━━━━━━━━━━━━━━━━━━━━━━━━━━━━━━━\u001b[0m \u001b[32m3.1/3.1 MB\u001b[0m \u001b[31m69.7 MB/s\u001b[0m eta \u001b[36m0:00:00\u001b[0m\n",
            "\u001b[?25hDownloading marshmallow-3.23.1-py3-none-any.whl (49 kB)\n",
            "\u001b[2K   \u001b[90m━━━━━━━━━━━━━━━━━━━━━━━━━━━━━━━━━━━━━━━━\u001b[0m \u001b[32m49.5/49.5 kB\u001b[0m \u001b[31m4.2 MB/s\u001b[0m eta \u001b[36m0:00:00\u001b[0m\n",
            "\u001b[?25hDownloading typing_inspect-0.9.0-py3-none-any.whl (8.8 kB)\n",
            "Downloading mypy_extensions-1.0.0-py3-none-any.whl (4.7 kB)\n",
            "Installing collected packages: SQLAlchemy, mypy-extensions, marshmallow, httpx-sse, typing-inspect, pydantic-settings, dataclasses-json, langchain-community\n",
            "  Attempting uninstall: SQLAlchemy\n",
            "    Found existing installation: SQLAlchemy 2.0.36\n",
            "    Uninstalling SQLAlchemy-2.0.36:\n",
            "      Successfully uninstalled SQLAlchemy-2.0.36\n",
            "Successfully installed SQLAlchemy-2.0.35 dataclasses-json-0.6.7 httpx-sse-0.4.0 langchain-community-0.3.7 marshmallow-3.23.1 mypy-extensions-1.0.0 pydantic-settings-2.6.1 typing-inspect-0.9.0\n"
          ]
        }
      ]
    },
    {
      "cell_type": "code",
      "source": [
        "!pip install langchain-huggingface"
      ],
      "metadata": {
        "colab": {
          "base_uri": "https://localhost:8080/"
        },
        "collapsed": true,
        "id": "-GWjQq4UlATr",
        "outputId": "64571751-1022-4346-e0cf-39056fb5c04d"
      },
      "execution_count": null,
      "outputs": [
        {
          "output_type": "stream",
          "name": "stdout",
          "text": [
            "Collecting langchain-huggingface\n",
            "  Downloading langchain_huggingface-0.1.2-py3-none-any.whl.metadata (1.3 kB)\n",
            "Requirement already satisfied: huggingface-hub>=0.23.0 in /usr/local/lib/python3.10/dist-packages (from langchain-huggingface) (0.26.2)\n",
            "Requirement already satisfied: langchain-core<0.4.0,>=0.3.15 in /usr/local/lib/python3.10/dist-packages (from langchain-huggingface) (0.3.17)\n",
            "Requirement already satisfied: sentence-transformers>=2.6.0 in /usr/local/lib/python3.10/dist-packages (from langchain-huggingface) (3.2.1)\n",
            "Requirement already satisfied: tokenizers>=0.19.1 in /usr/local/lib/python3.10/dist-packages (from langchain-huggingface) (0.20.3)\n",
            "Requirement already satisfied: transformers>=4.39.0 in /usr/local/lib/python3.10/dist-packages (from langchain-huggingface) (4.46.2)\n",
            "Requirement already satisfied: filelock in /usr/local/lib/python3.10/dist-packages (from huggingface-hub>=0.23.0->langchain-huggingface) (3.16.1)\n",
            "Requirement already satisfied: fsspec>=2023.5.0 in /usr/local/lib/python3.10/dist-packages (from huggingface-hub>=0.23.0->langchain-huggingface) (2024.10.0)\n",
            "Requirement already satisfied: packaging>=20.9 in /usr/local/lib/python3.10/dist-packages (from huggingface-hub>=0.23.0->langchain-huggingface) (24.2)\n",
            "Requirement already satisfied: pyyaml>=5.1 in /usr/local/lib/python3.10/dist-packages (from huggingface-hub>=0.23.0->langchain-huggingface) (6.0.2)\n",
            "Requirement already satisfied: requests in /usr/local/lib/python3.10/dist-packages (from huggingface-hub>=0.23.0->langchain-huggingface) (2.32.3)\n",
            "Requirement already satisfied: tqdm>=4.42.1 in /usr/local/lib/python3.10/dist-packages (from huggingface-hub>=0.23.0->langchain-huggingface) (4.66.6)\n",
            "Requirement already satisfied: typing-extensions>=3.7.4.3 in /usr/local/lib/python3.10/dist-packages (from huggingface-hub>=0.23.0->langchain-huggingface) (4.12.2)\n",
            "Requirement already satisfied: jsonpatch<2.0,>=1.33 in /usr/local/lib/python3.10/dist-packages (from langchain-core<0.4.0,>=0.3.15->langchain-huggingface) (1.33)\n",
            "Requirement already satisfied: langsmith<0.2.0,>=0.1.125 in /usr/local/lib/python3.10/dist-packages (from langchain-core<0.4.0,>=0.3.15->langchain-huggingface) (0.1.142)\n",
            "Requirement already satisfied: pydantic<3.0.0,>=2.5.2 in /usr/local/lib/python3.10/dist-packages (from langchain-core<0.4.0,>=0.3.15->langchain-huggingface) (2.9.2)\n",
            "Requirement already satisfied: tenacity!=8.4.0,<10.0.0,>=8.1.0 in /usr/local/lib/python3.10/dist-packages (from langchain-core<0.4.0,>=0.3.15->langchain-huggingface) (9.0.0)\n",
            "Requirement already satisfied: torch>=1.11.0 in /usr/local/lib/python3.10/dist-packages (from sentence-transformers>=2.6.0->langchain-huggingface) (2.5.1+cu121)\n",
            "Requirement already satisfied: scikit-learn in /usr/local/lib/python3.10/dist-packages (from sentence-transformers>=2.6.0->langchain-huggingface) (1.5.2)\n",
            "Requirement already satisfied: scipy in /usr/local/lib/python3.10/dist-packages (from sentence-transformers>=2.6.0->langchain-huggingface) (1.13.1)\n",
            "Requirement already satisfied: Pillow in /usr/local/lib/python3.10/dist-packages (from sentence-transformers>=2.6.0->langchain-huggingface) (11.0.0)\n",
            "Requirement already satisfied: numpy>=1.17 in /usr/local/lib/python3.10/dist-packages (from transformers>=4.39.0->langchain-huggingface) (1.26.4)\n",
            "Requirement already satisfied: regex!=2019.12.17 in /usr/local/lib/python3.10/dist-packages (from transformers>=4.39.0->langchain-huggingface) (2024.9.11)\n",
            "Requirement already satisfied: safetensors>=0.4.1 in /usr/local/lib/python3.10/dist-packages (from transformers>=4.39.0->langchain-huggingface) (0.4.5)\n",
            "Requirement already satisfied: jsonpointer>=1.9 in /usr/local/lib/python3.10/dist-packages (from jsonpatch<2.0,>=1.33->langchain-core<0.4.0,>=0.3.15->langchain-huggingface) (3.0.0)\n",
            "Requirement already satisfied: httpx<1,>=0.23.0 in /usr/local/lib/python3.10/dist-packages (from langsmith<0.2.0,>=0.1.125->langchain-core<0.4.0,>=0.3.15->langchain-huggingface) (0.27.2)\n",
            "Requirement already satisfied: orjson<4.0.0,>=3.9.14 in /usr/local/lib/python3.10/dist-packages (from langsmith<0.2.0,>=0.1.125->langchain-core<0.4.0,>=0.3.15->langchain-huggingface) (3.10.11)\n",
            "Requirement already satisfied: requests-toolbelt<2.0.0,>=1.0.0 in /usr/local/lib/python3.10/dist-packages (from langsmith<0.2.0,>=0.1.125->langchain-core<0.4.0,>=0.3.15->langchain-huggingface) (1.0.0)\n",
            "Requirement already satisfied: annotated-types>=0.6.0 in /usr/local/lib/python3.10/dist-packages (from pydantic<3.0.0,>=2.5.2->langchain-core<0.4.0,>=0.3.15->langchain-huggingface) (0.7.0)\n",
            "Requirement already satisfied: pydantic-core==2.23.4 in /usr/local/lib/python3.10/dist-packages (from pydantic<3.0.0,>=2.5.2->langchain-core<0.4.0,>=0.3.15->langchain-huggingface) (2.23.4)\n",
            "Requirement already satisfied: charset-normalizer<4,>=2 in /usr/local/lib/python3.10/dist-packages (from requests->huggingface-hub>=0.23.0->langchain-huggingface) (3.4.0)\n",
            "Requirement already satisfied: idna<4,>=2.5 in /usr/local/lib/python3.10/dist-packages (from requests->huggingface-hub>=0.23.0->langchain-huggingface) (3.10)\n",
            "Requirement already satisfied: urllib3<3,>=1.21.1 in /usr/local/lib/python3.10/dist-packages (from requests->huggingface-hub>=0.23.0->langchain-huggingface) (2.2.3)\n",
            "Requirement already satisfied: certifi>=2017.4.17 in /usr/local/lib/python3.10/dist-packages (from requests->huggingface-hub>=0.23.0->langchain-huggingface) (2024.8.30)\n",
            "Requirement already satisfied: networkx in /usr/local/lib/python3.10/dist-packages (from torch>=1.11.0->sentence-transformers>=2.6.0->langchain-huggingface) (3.4.2)\n",
            "Requirement already satisfied: jinja2 in /usr/local/lib/python3.10/dist-packages (from torch>=1.11.0->sentence-transformers>=2.6.0->langchain-huggingface) (3.1.4)\n",
            "Requirement already satisfied: sympy==1.13.1 in /usr/local/lib/python3.10/dist-packages (from torch>=1.11.0->sentence-transformers>=2.6.0->langchain-huggingface) (1.13.1)\n",
            "Requirement already satisfied: mpmath<1.4,>=1.1.0 in /usr/local/lib/python3.10/dist-packages (from sympy==1.13.1->torch>=1.11.0->sentence-transformers>=2.6.0->langchain-huggingface) (1.3.0)\n",
            "Requirement already satisfied: joblib>=1.2.0 in /usr/local/lib/python3.10/dist-packages (from scikit-learn->sentence-transformers>=2.6.0->langchain-huggingface) (1.4.2)\n",
            "Requirement already satisfied: threadpoolctl>=3.1.0 in /usr/local/lib/python3.10/dist-packages (from scikit-learn->sentence-transformers>=2.6.0->langchain-huggingface) (3.5.0)\n",
            "Requirement already satisfied: anyio in /usr/local/lib/python3.10/dist-packages (from httpx<1,>=0.23.0->langsmith<0.2.0,>=0.1.125->langchain-core<0.4.0,>=0.3.15->langchain-huggingface) (3.7.1)\n",
            "Requirement already satisfied: httpcore==1.* in /usr/local/lib/python3.10/dist-packages (from httpx<1,>=0.23.0->langsmith<0.2.0,>=0.1.125->langchain-core<0.4.0,>=0.3.15->langchain-huggingface) (1.0.6)\n",
            "Requirement already satisfied: sniffio in /usr/local/lib/python3.10/dist-packages (from httpx<1,>=0.23.0->langsmith<0.2.0,>=0.1.125->langchain-core<0.4.0,>=0.3.15->langchain-huggingface) (1.3.1)\n",
            "Requirement already satisfied: h11<0.15,>=0.13 in /usr/local/lib/python3.10/dist-packages (from httpcore==1.*->httpx<1,>=0.23.0->langsmith<0.2.0,>=0.1.125->langchain-core<0.4.0,>=0.3.15->langchain-huggingface) (0.14.0)\n",
            "Requirement already satisfied: MarkupSafe>=2.0 in /usr/local/lib/python3.10/dist-packages (from jinja2->torch>=1.11.0->sentence-transformers>=2.6.0->langchain-huggingface) (3.0.2)\n",
            "Requirement already satisfied: exceptiongroup in /usr/local/lib/python3.10/dist-packages (from anyio->httpx<1,>=0.23.0->langsmith<0.2.0,>=0.1.125->langchain-core<0.4.0,>=0.3.15->langchain-huggingface) (1.2.2)\n",
            "Downloading langchain_huggingface-0.1.2-py3-none-any.whl (21 kB)\n",
            "Installing collected packages: langchain-huggingface\n",
            "Successfully installed langchain-huggingface-0.1.2\n"
          ]
        }
      ]
    },
    {
      "cell_type": "code",
      "execution_count": null,
      "metadata": {
        "id": "zPbdV8jxCSjT"
      },
      "outputs": [],
      "source": [
        "api_key=\"your-pinecone-api-key\""
      ]
    },
    {
      "cell_type": "code",
      "source": [
        "from langchain_community.retrievers import PineconeHybridSearchRetriever\n"
      ],
      "metadata": {
        "id": "JfvK4LiCiO5Z"
      },
      "execution_count": null,
      "outputs": []
    },
    {
      "cell_type": "code",
      "source": [
        "import os\n",
        "from pinecone import Pinecone, ServerlessSpec\n",
        "index_name = \"hybrid-search-langchain-pinecone\"\n",
        "\n",
        "pc = Pinecone(api_key=api_key)\n",
        "\n",
        "if index_name not in pc.list_indexes().names():\n",
        "  pc.create_index(\n",
        "      name = index_name,\n",
        "      dimension = 384, # dim of dense vector\n",
        "      metric = \"dotproduct\", # sparse values\n",
        "      spec = ServerlessSpec(cloud='aws', region=\"us-east-1\"),\n",
        "  )"
      ],
      "metadata": {
        "id": "Hf45le09jK6U"
      },
      "execution_count": null,
      "outputs": []
    },
    {
      "cell_type": "code",
      "source": [
        "index = pc.Index(index_name)\n",
        "index"
      ],
      "metadata": {
        "colab": {
          "base_uri": "https://localhost:8080/"
        },
        "id": "oQrp-aNkkqnK",
        "outputId": "b55c02b6-fc78-4c1c-d5f4-44df8cbd0eab"
      },
      "execution_count": null,
      "outputs": [
        {
          "output_type": "execute_result",
          "data": {
            "text/plain": [
              "<pinecone.data.index.Index at 0x7f099f2d6440>"
            ]
          },
          "metadata": {},
          "execution_count": 6
        }
      ]
    },
    {
      "cell_type": "code",
      "source": [
        "import os\n",
        "os.environ['HF_TOKEN'] = \"your-huggingface-api-token\""
      ],
      "metadata": {
        "id": "SATNCsA3mLcp"
      },
      "execution_count": null,
      "outputs": []
    },
    {
      "cell_type": "code",
      "source": [
        "from langchain_huggingface import HuggingFaceEmbeddings\n",
        "embeddings = HuggingFaceEmbeddings(model_name=\"all-MiniLM-L6-v2\")\n",
        "embeddings"
      ],
      "metadata": {
        "colab": {
          "base_uri": "https://localhost:8080/"
        },
        "id": "E6S7r81xku0o",
        "outputId": "784dab24-34fb-48a5-ffb4-d094d7b79a24"
      },
      "execution_count": null,
      "outputs": [
        {
          "output_type": "execute_result",
          "data": {
            "text/plain": [
              "HuggingFaceEmbeddings(model_name='all-MiniLM-L6-v2', cache_folder=None, model_kwargs={}, encode_kwargs={}, multi_process=False, show_progress=False)"
            ]
          },
          "metadata": {},
          "execution_count": 10
        }
      ]
    },
    {
      "cell_type": "code",
      "source": [
        "from pinecone_text.sparse import BM25Encoder\n",
        "\n",
        "bm25_encoder = BM25Encoder().default()\n",
        "bm25_encoder"
      ],
      "metadata": {
        "colab": {
          "base_uri": "https://localhost:8080/"
        },
        "id": "PItu0C_nlWkM",
        "outputId": "de0b6675-bcab-48d9-bab9-36a82dd6ee94"
      },
      "execution_count": null,
      "outputs": [
        {
          "output_type": "stream",
          "name": "stderr",
          "text": [
            "[nltk_data] Downloading package punkt to /root/nltk_data...\n",
            "[nltk_data]   Unzipping tokenizers/punkt.zip.\n",
            "[nltk_data] Downloading package stopwords to /root/nltk_data...\n",
            "[nltk_data]   Unzipping corpora/stopwords.zip.\n"
          ]
        },
        {
          "output_type": "execute_result",
          "data": {
            "text/plain": [
              "<pinecone_text.sparse.bm25_encoder.BM25Encoder at 0x7f0887b4b370>"
            ]
          },
          "metadata": {},
          "execution_count": 11
        }
      ]
    },
    {
      "cell_type": "code",
      "source": [
        "file_paths = [\"/content/caro_kann.txt\", \"/content/hikaru.txt\", \"/content/kings_indian.txt\", \"/content/magnus.txt\"]\n",
        "\n",
        "files = []\n",
        "for file_name in file_paths:\n",
        "  with open(file_name, 'r') as f:\n",
        "    files.append(f.read())\n",
        "  f.close()\n"
      ],
      "metadata": {
        "id": "w6_OHUSyqwjz"
      },
      "execution_count": null,
      "outputs": []
    },
    {
      "cell_type": "code",
      "source": [
        "import nltk\n",
        "nltk.download(\"all\")"
      ],
      "metadata": {
        "colab": {
          "base_uri": "https://localhost:8080/"
        },
        "collapsed": true,
        "id": "LAX56t_or65N",
        "outputId": "e203d37d-0373-41f5-e782-583f523ed3d1"
      },
      "execution_count": null,
      "outputs": [
        {
          "output_type": "stream",
          "name": "stderr",
          "text": [
            "[nltk_data] Downloading collection 'all'\n",
            "[nltk_data]    | \n",
            "[nltk_data]    | Downloading package abc to /root/nltk_data...\n",
            "[nltk_data]    |   Unzipping corpora/abc.zip.\n",
            "[nltk_data]    | Downloading package alpino to /root/nltk_data...\n",
            "[nltk_data]    |   Unzipping corpora/alpino.zip.\n",
            "[nltk_data]    | Downloading package averaged_perceptron_tagger to\n",
            "[nltk_data]    |     /root/nltk_data...\n",
            "[nltk_data]    |   Unzipping taggers/averaged_perceptron_tagger.zip.\n",
            "[nltk_data]    | Downloading package averaged_perceptron_tagger_eng to\n",
            "[nltk_data]    |     /root/nltk_data...\n",
            "[nltk_data]    |   Unzipping\n",
            "[nltk_data]    |       taggers/averaged_perceptron_tagger_eng.zip.\n",
            "[nltk_data]    | Downloading package averaged_perceptron_tagger_ru to\n",
            "[nltk_data]    |     /root/nltk_data...\n",
            "[nltk_data]    |   Unzipping\n",
            "[nltk_data]    |       taggers/averaged_perceptron_tagger_ru.zip.\n",
            "[nltk_data]    | Downloading package averaged_perceptron_tagger_rus to\n",
            "[nltk_data]    |     /root/nltk_data...\n",
            "[nltk_data]    |   Unzipping\n",
            "[nltk_data]    |       taggers/averaged_perceptron_tagger_rus.zip.\n",
            "[nltk_data]    | Downloading package basque_grammars to\n",
            "[nltk_data]    |     /root/nltk_data...\n",
            "[nltk_data]    |   Unzipping grammars/basque_grammars.zip.\n",
            "[nltk_data]    | Downloading package bcp47 to /root/nltk_data...\n",
            "[nltk_data]    | Downloading package biocreative_ppi to\n",
            "[nltk_data]    |     /root/nltk_data...\n",
            "[nltk_data]    |   Unzipping corpora/biocreative_ppi.zip.\n",
            "[nltk_data]    | Downloading package bllip_wsj_no_aux to\n",
            "[nltk_data]    |     /root/nltk_data...\n",
            "[nltk_data]    |   Unzipping models/bllip_wsj_no_aux.zip.\n",
            "[nltk_data]    | Downloading package book_grammars to\n",
            "[nltk_data]    |     /root/nltk_data...\n",
            "[nltk_data]    |   Unzipping grammars/book_grammars.zip.\n",
            "[nltk_data]    | Downloading package brown to /root/nltk_data...\n",
            "[nltk_data]    |   Unzipping corpora/brown.zip.\n",
            "[nltk_data]    | Downloading package brown_tei to /root/nltk_data...\n",
            "[nltk_data]    |   Unzipping corpora/brown_tei.zip.\n",
            "[nltk_data]    | Downloading package cess_cat to /root/nltk_data...\n",
            "[nltk_data]    |   Unzipping corpora/cess_cat.zip.\n",
            "[nltk_data]    | Downloading package cess_esp to /root/nltk_data...\n",
            "[nltk_data]    |   Unzipping corpora/cess_esp.zip.\n",
            "[nltk_data]    | Downloading package chat80 to /root/nltk_data...\n",
            "[nltk_data]    |   Unzipping corpora/chat80.zip.\n",
            "[nltk_data]    | Downloading package city_database to\n",
            "[nltk_data]    |     /root/nltk_data...\n",
            "[nltk_data]    |   Unzipping corpora/city_database.zip.\n",
            "[nltk_data]    | Downloading package cmudict to /root/nltk_data...\n",
            "[nltk_data]    |   Unzipping corpora/cmudict.zip.\n",
            "[nltk_data]    | Downloading package comparative_sentences to\n",
            "[nltk_data]    |     /root/nltk_data...\n",
            "[nltk_data]    |   Unzipping corpora/comparative_sentences.zip.\n",
            "[nltk_data]    | Downloading package comtrans to /root/nltk_data...\n",
            "[nltk_data]    | Downloading package conll2000 to /root/nltk_data...\n",
            "[nltk_data]    |   Unzipping corpora/conll2000.zip.\n",
            "[nltk_data]    | Downloading package conll2002 to /root/nltk_data...\n",
            "[nltk_data]    |   Unzipping corpora/conll2002.zip.\n",
            "[nltk_data]    | Downloading package conll2007 to /root/nltk_data...\n",
            "[nltk_data]    | Downloading package crubadan to /root/nltk_data...\n",
            "[nltk_data]    |   Unzipping corpora/crubadan.zip.\n",
            "[nltk_data]    | Downloading package dependency_treebank to\n",
            "[nltk_data]    |     /root/nltk_data...\n",
            "[nltk_data]    |   Unzipping corpora/dependency_treebank.zip.\n",
            "[nltk_data]    | Downloading package dolch to /root/nltk_data...\n",
            "[nltk_data]    |   Unzipping corpora/dolch.zip.\n",
            "[nltk_data]    | Downloading package europarl_raw to\n",
            "[nltk_data]    |     /root/nltk_data...\n",
            "[nltk_data]    |   Unzipping corpora/europarl_raw.zip.\n",
            "[nltk_data]    | Downloading package extended_omw to\n",
            "[nltk_data]    |     /root/nltk_data...\n",
            "[nltk_data]    | Downloading package floresta to /root/nltk_data...\n",
            "[nltk_data]    |   Unzipping corpora/floresta.zip.\n",
            "[nltk_data]    | Downloading package framenet_v15 to\n",
            "[nltk_data]    |     /root/nltk_data...\n",
            "[nltk_data]    |   Unzipping corpora/framenet_v15.zip.\n",
            "[nltk_data]    | Downloading package framenet_v17 to\n",
            "[nltk_data]    |     /root/nltk_data...\n",
            "[nltk_data]    |   Unzipping corpora/framenet_v17.zip.\n",
            "[nltk_data]    | Downloading package gazetteers to /root/nltk_data...\n",
            "[nltk_data]    |   Unzipping corpora/gazetteers.zip.\n",
            "[nltk_data]    | Downloading package genesis to /root/nltk_data...\n",
            "[nltk_data]    |   Unzipping corpora/genesis.zip.\n",
            "[nltk_data]    | Downloading package gutenberg to /root/nltk_data...\n",
            "[nltk_data]    |   Unzipping corpora/gutenberg.zip.\n",
            "[nltk_data]    | Downloading package ieer to /root/nltk_data...\n",
            "[nltk_data]    |   Unzipping corpora/ieer.zip.\n",
            "[nltk_data]    | Downloading package inaugural to /root/nltk_data...\n",
            "[nltk_data]    |   Unzipping corpora/inaugural.zip.\n",
            "[nltk_data]    | Downloading package indian to /root/nltk_data...\n",
            "[nltk_data]    |   Unzipping corpora/indian.zip.\n",
            "[nltk_data]    | Downloading package jeita to /root/nltk_data...\n",
            "[nltk_data]    | Downloading package kimmo to /root/nltk_data...\n",
            "[nltk_data]    |   Unzipping corpora/kimmo.zip.\n",
            "[nltk_data]    | Downloading package knbc to /root/nltk_data...\n",
            "[nltk_data]    | Downloading package large_grammars to\n",
            "[nltk_data]    |     /root/nltk_data...\n",
            "[nltk_data]    |   Unzipping grammars/large_grammars.zip.\n",
            "[nltk_data]    | Downloading package lin_thesaurus to\n",
            "[nltk_data]    |     /root/nltk_data...\n",
            "[nltk_data]    |   Unzipping corpora/lin_thesaurus.zip.\n",
            "[nltk_data]    | Downloading package mac_morpho to /root/nltk_data...\n",
            "[nltk_data]    |   Unzipping corpora/mac_morpho.zip.\n",
            "[nltk_data]    | Downloading package machado to /root/nltk_data...\n",
            "[nltk_data]    | Downloading package masc_tagged to /root/nltk_data...\n",
            "[nltk_data]    | Downloading package maxent_ne_chunker to\n",
            "[nltk_data]    |     /root/nltk_data...\n",
            "[nltk_data]    |   Unzipping chunkers/maxent_ne_chunker.zip.\n",
            "[nltk_data]    | Downloading package maxent_ne_chunker_tab to\n",
            "[nltk_data]    |     /root/nltk_data...\n",
            "[nltk_data]    |   Unzipping chunkers/maxent_ne_chunker_tab.zip.\n",
            "[nltk_data]    | Downloading package maxent_treebank_pos_tagger to\n",
            "[nltk_data]    |     /root/nltk_data...\n",
            "[nltk_data]    |   Unzipping taggers/maxent_treebank_pos_tagger.zip.\n",
            "[nltk_data]    | Downloading package maxent_treebank_pos_tagger_tab to\n",
            "[nltk_data]    |     /root/nltk_data...\n",
            "[nltk_data]    |   Unzipping\n",
            "[nltk_data]    |       taggers/maxent_treebank_pos_tagger_tab.zip.\n",
            "[nltk_data]    | Downloading package moses_sample to\n",
            "[nltk_data]    |     /root/nltk_data...\n",
            "[nltk_data]    |   Unzipping models/moses_sample.zip.\n",
            "[nltk_data]    | Downloading package movie_reviews to\n",
            "[nltk_data]    |     /root/nltk_data...\n",
            "[nltk_data]    |   Unzipping corpora/movie_reviews.zip.\n",
            "[nltk_data]    | Downloading package mte_teip5 to /root/nltk_data...\n",
            "[nltk_data]    |   Unzipping corpora/mte_teip5.zip.\n",
            "[nltk_data]    | Downloading package mwa_ppdb to /root/nltk_data...\n",
            "[nltk_data]    |   Unzipping misc/mwa_ppdb.zip.\n",
            "[nltk_data]    | Downloading package names to /root/nltk_data...\n",
            "[nltk_data]    |   Unzipping corpora/names.zip.\n",
            "[nltk_data]    | Downloading package nombank.1.0 to /root/nltk_data...\n",
            "[nltk_data]    | Downloading package nonbreaking_prefixes to\n",
            "[nltk_data]    |     /root/nltk_data...\n",
            "[nltk_data]    |   Unzipping corpora/nonbreaking_prefixes.zip.\n",
            "[nltk_data]    | Downloading package nps_chat to /root/nltk_data...\n",
            "[nltk_data]    |   Unzipping corpora/nps_chat.zip.\n",
            "[nltk_data]    | Downloading package omw to /root/nltk_data...\n",
            "[nltk_data]    | Downloading package omw-1.4 to /root/nltk_data...\n",
            "[nltk_data]    | Downloading package opinion_lexicon to\n",
            "[nltk_data]    |     /root/nltk_data...\n",
            "[nltk_data]    |   Unzipping corpora/opinion_lexicon.zip.\n",
            "[nltk_data]    | Downloading package panlex_swadesh to\n",
            "[nltk_data]    |     /root/nltk_data...\n",
            "[nltk_data]    | Downloading package paradigms to /root/nltk_data...\n",
            "[nltk_data]    |   Unzipping corpora/paradigms.zip.\n",
            "[nltk_data]    | Downloading package pe08 to /root/nltk_data...\n",
            "[nltk_data]    |   Unzipping corpora/pe08.zip.\n",
            "[nltk_data]    | Downloading package perluniprops to\n",
            "[nltk_data]    |     /root/nltk_data...\n",
            "[nltk_data]    |   Unzipping misc/perluniprops.zip.\n",
            "[nltk_data]    | Downloading package pil to /root/nltk_data...\n",
            "[nltk_data]    |   Unzipping corpora/pil.zip.\n",
            "[nltk_data]    | Downloading package pl196x to /root/nltk_data...\n",
            "[nltk_data]    |   Unzipping corpora/pl196x.zip.\n",
            "[nltk_data]    | Downloading package porter_test to /root/nltk_data...\n",
            "[nltk_data]    |   Unzipping stemmers/porter_test.zip.\n",
            "[nltk_data]    | Downloading package ppattach to /root/nltk_data...\n",
            "[nltk_data]    |   Unzipping corpora/ppattach.zip.\n",
            "[nltk_data]    | Downloading package problem_reports to\n",
            "[nltk_data]    |     /root/nltk_data...\n",
            "[nltk_data]    |   Unzipping corpora/problem_reports.zip.\n",
            "[nltk_data]    | Downloading package product_reviews_1 to\n",
            "[nltk_data]    |     /root/nltk_data...\n",
            "[nltk_data]    |   Unzipping corpora/product_reviews_1.zip.\n",
            "[nltk_data]    | Downloading package product_reviews_2 to\n",
            "[nltk_data]    |     /root/nltk_data...\n",
            "[nltk_data]    |   Unzipping corpora/product_reviews_2.zip.\n",
            "[nltk_data]    | Downloading package propbank to /root/nltk_data...\n",
            "[nltk_data]    | Downloading package pros_cons to /root/nltk_data...\n",
            "[nltk_data]    |   Unzipping corpora/pros_cons.zip.\n",
            "[nltk_data]    | Downloading package ptb to /root/nltk_data...\n",
            "[nltk_data]    |   Unzipping corpora/ptb.zip.\n",
            "[nltk_data]    | Downloading package punkt to /root/nltk_data...\n",
            "[nltk_data]    |   Package punkt is already up-to-date!\n",
            "[nltk_data]    | Downloading package punkt_tab to /root/nltk_data...\n",
            "[nltk_data]    |   Unzipping tokenizers/punkt_tab.zip.\n",
            "[nltk_data]    | Downloading package qc to /root/nltk_data...\n",
            "[nltk_data]    |   Unzipping corpora/qc.zip.\n",
            "[nltk_data]    | Downloading package reuters to /root/nltk_data...\n",
            "[nltk_data]    | Downloading package rslp to /root/nltk_data...\n",
            "[nltk_data]    |   Unzipping stemmers/rslp.zip.\n",
            "[nltk_data]    | Downloading package rte to /root/nltk_data...\n",
            "[nltk_data]    |   Unzipping corpora/rte.zip.\n",
            "[nltk_data]    | Downloading package sample_grammars to\n",
            "[nltk_data]    |     /root/nltk_data...\n",
            "[nltk_data]    |   Unzipping grammars/sample_grammars.zip.\n",
            "[nltk_data]    | Downloading package semcor to /root/nltk_data...\n",
            "[nltk_data]    | Downloading package senseval to /root/nltk_data...\n",
            "[nltk_data]    |   Unzipping corpora/senseval.zip.\n",
            "[nltk_data]    | Downloading package sentence_polarity to\n",
            "[nltk_data]    |     /root/nltk_data...\n",
            "[nltk_data]    |   Unzipping corpora/sentence_polarity.zip.\n",
            "[nltk_data]    | Downloading package sentiwordnet to\n",
            "[nltk_data]    |     /root/nltk_data...\n",
            "[nltk_data]    |   Unzipping corpora/sentiwordnet.zip.\n",
            "[nltk_data]    | Downloading package shakespeare to /root/nltk_data...\n",
            "[nltk_data]    |   Unzipping corpora/shakespeare.zip.\n",
            "[nltk_data]    | Downloading package sinica_treebank to\n",
            "[nltk_data]    |     /root/nltk_data...\n",
            "[nltk_data]    |   Unzipping corpora/sinica_treebank.zip.\n",
            "[nltk_data]    | Downloading package smultron to /root/nltk_data...\n",
            "[nltk_data]    |   Unzipping corpora/smultron.zip.\n",
            "[nltk_data]    | Downloading package snowball_data to\n",
            "[nltk_data]    |     /root/nltk_data...\n",
            "[nltk_data]    | Downloading package spanish_grammars to\n",
            "[nltk_data]    |     /root/nltk_data...\n",
            "[nltk_data]    |   Unzipping grammars/spanish_grammars.zip.\n",
            "[nltk_data]    | Downloading package state_union to /root/nltk_data...\n",
            "[nltk_data]    |   Unzipping corpora/state_union.zip.\n",
            "[nltk_data]    | Downloading package stopwords to /root/nltk_data...\n",
            "[nltk_data]    |   Package stopwords is already up-to-date!\n",
            "[nltk_data]    | Downloading package subjectivity to\n",
            "[nltk_data]    |     /root/nltk_data...\n",
            "[nltk_data]    |   Unzipping corpora/subjectivity.zip.\n",
            "[nltk_data]    | Downloading package swadesh to /root/nltk_data...\n",
            "[nltk_data]    |   Unzipping corpora/swadesh.zip.\n",
            "[nltk_data]    | Downloading package switchboard to /root/nltk_data...\n",
            "[nltk_data]    |   Unzipping corpora/switchboard.zip.\n",
            "[nltk_data]    | Downloading package tagsets to /root/nltk_data...\n",
            "[nltk_data]    |   Unzipping help/tagsets.zip.\n",
            "[nltk_data]    | Downloading package tagsets_json to\n",
            "[nltk_data]    |     /root/nltk_data...\n",
            "[nltk_data]    |   Unzipping help/tagsets_json.zip.\n",
            "[nltk_data]    | Downloading package timit to /root/nltk_data...\n",
            "[nltk_data]    |   Unzipping corpora/timit.zip.\n",
            "[nltk_data]    | Downloading package toolbox to /root/nltk_data...\n",
            "[nltk_data]    |   Unzipping corpora/toolbox.zip.\n",
            "[nltk_data]    | Downloading package treebank to /root/nltk_data...\n",
            "[nltk_data]    |   Unzipping corpora/treebank.zip.\n",
            "[nltk_data]    | Downloading package twitter_samples to\n",
            "[nltk_data]    |     /root/nltk_data...\n",
            "[nltk_data]    |   Unzipping corpora/twitter_samples.zip.\n",
            "[nltk_data]    | Downloading package udhr to /root/nltk_data...\n",
            "[nltk_data]    |   Unzipping corpora/udhr.zip.\n",
            "[nltk_data]    | Downloading package udhr2 to /root/nltk_data...\n",
            "[nltk_data]    |   Unzipping corpora/udhr2.zip.\n",
            "[nltk_data]    | Downloading package unicode_samples to\n",
            "[nltk_data]    |     /root/nltk_data...\n",
            "[nltk_data]    |   Unzipping corpora/unicode_samples.zip.\n",
            "[nltk_data]    | Downloading package universal_tagset to\n",
            "[nltk_data]    |     /root/nltk_data...\n",
            "[nltk_data]    |   Unzipping taggers/universal_tagset.zip.\n",
            "[nltk_data]    | Downloading package universal_treebanks_v20 to\n",
            "[nltk_data]    |     /root/nltk_data...\n",
            "[nltk_data]    | Downloading package vader_lexicon to\n",
            "[nltk_data]    |     /root/nltk_data...\n",
            "[nltk_data]    | Downloading package verbnet to /root/nltk_data...\n",
            "[nltk_data]    |   Unzipping corpora/verbnet.zip.\n",
            "[nltk_data]    | Downloading package verbnet3 to /root/nltk_data...\n",
            "[nltk_data]    |   Unzipping corpora/verbnet3.zip.\n",
            "[nltk_data]    | Downloading package webtext to /root/nltk_data...\n",
            "[nltk_data]    |   Unzipping corpora/webtext.zip.\n",
            "[nltk_data]    | Downloading package wmt15_eval to /root/nltk_data...\n",
            "[nltk_data]    |   Unzipping models/wmt15_eval.zip.\n",
            "[nltk_data]    | Downloading package word2vec_sample to\n",
            "[nltk_data]    |     /root/nltk_data...\n",
            "[nltk_data]    |   Unzipping models/word2vec_sample.zip.\n",
            "[nltk_data]    | Downloading package wordnet to /root/nltk_data...\n",
            "[nltk_data]    | Downloading package wordnet2021 to /root/nltk_data...\n",
            "[nltk_data]    | Downloading package wordnet2022 to /root/nltk_data...\n",
            "[nltk_data]    |   Unzipping corpora/wordnet2022.zip.\n",
            "[nltk_data]    | Downloading package wordnet31 to /root/nltk_data...\n",
            "[nltk_data]    | Downloading package wordnet_ic to /root/nltk_data...\n",
            "[nltk_data]    |   Unzipping corpora/wordnet_ic.zip.\n",
            "[nltk_data]    | Downloading package words to /root/nltk_data...\n",
            "[nltk_data]    |   Unzipping corpora/words.zip.\n",
            "[nltk_data]    | Downloading package ycoe to /root/nltk_data...\n",
            "[nltk_data]    |   Unzipping corpora/ycoe.zip.\n",
            "[nltk_data]    | \n",
            "[nltk_data]  Done downloading collection all\n"
          ]
        },
        {
          "output_type": "execute_result",
          "data": {
            "text/plain": [
              "True"
            ]
          },
          "metadata": {},
          "execution_count": 17
        }
      ]
    },
    {
      "cell_type": "code",
      "source": [
        "# apply tf-idf to files\n",
        "bm25_encoder.fit(files)\n",
        "\n",
        "# store values to json file\n",
        "bm25_encoder.dump(\"bm25_values.json\")\n",
        "bm25_encoder = BM25Encoder().load(\"bm25_values.json\")"
      ],
      "metadata": {
        "colab": {
          "base_uri": "https://localhost:8080/",
          "height": 49,
          "referenced_widgets": [
            "ce6fcff2dd1d47b5989794dc15fada34",
            "e29227a1735e43319797ceb4122686af",
            "7f9aa35c746944798f39f3e8d5d50ec1",
            "23ee5dc774d5401fb8ac643352437d8c",
            "803f5fb6ec4f497cac0c64346b4f7d2c",
            "e3f2313b75d1422d86c683248ea35db2",
            "0d324aef0544462ebaabb7e41c0d830a",
            "74c12fd1292140d09e5bab2fda325b58",
            "ce570fc0d93b46f5a98e3c753ed7b771",
            "c785256ae96a478aa9c896d45de0f2d2",
            "c0819e5f84dc48a9ab9b0f79b22566ef"
          ]
        },
        "id": "igBs7VxUmztW",
        "outputId": "2dd9942b-c3bd-4d64-db73-ee37b76203fb"
      },
      "execution_count": null,
      "outputs": [
        {
          "output_type": "display_data",
          "data": {
            "text/plain": [
              "  0%|          | 0/4 [00:00<?, ?it/s]"
            ],
            "application/vnd.jupyter.widget-view+json": {
              "version_major": 2,
              "version_minor": 0,
              "model_id": "ce6fcff2dd1d47b5989794dc15fada34"
            }
          },
          "metadata": {}
        }
      ]
    },
    {
      "cell_type": "code",
      "source": [
        "retriever = PineconeHybridSearchRetriever(embeddings=embeddings, sparse_encoder=bm25_encoder, index=index)\n",
        "retriever"
      ],
      "metadata": {
        "colab": {
          "base_uri": "https://localhost:8080/"
        },
        "id": "2RdEbdSEnahs",
        "outputId": "7e25cbe4-b2ae-42a6-fde4-2eb5f2e96fab"
      },
      "execution_count": null,
      "outputs": [
        {
          "output_type": "execute_result",
          "data": {
            "text/plain": [
              "PineconeHybridSearchRetriever(embeddings=HuggingFaceEmbeddings(model_name='all-MiniLM-L6-v2', cache_folder=None, model_kwargs={}, encode_kwargs={}, multi_process=False, show_progress=False), sparse_encoder=<pinecone_text.sparse.bm25_encoder.BM25Encoder object at 0x7f088754d000>, index=<pinecone.data.index.Index object at 0x7f099f2d6440>)"
            ]
          },
          "metadata": {},
          "execution_count": 19
        }
      ]
    },
    {
      "cell_type": "code",
      "source": [
        "retriever.add_texts(files)"
      ],
      "metadata": {
        "colab": {
          "base_uri": "https://localhost:8080/",
          "height": 49,
          "referenced_widgets": [
            "169d68e572d54a7690fbeac6dc28e9c7",
            "f9eef01d1bc14fe08b739b3c522ce5f5",
            "d27c4892277d4f5e94564b091c18379e",
            "3af64f63fe4440839d8284635afad424",
            "eb6305bf36374ec1ab76007a6a311bfd",
            "7e52e3a9d8814956b55a5a26783550e3",
            "ec54e72485bb4ba99f54991caaacfb88",
            "ec971c4617204616bcae46e49e4fe30e",
            "5d87ed728fb54abfb25e445e52319613",
            "f083f80135fc492690e1e5962e33f3c2",
            "ce68f98dc8584d6f8747637ce94e9ca3"
          ]
        },
        "id": "cVVLBbdKni9y",
        "outputId": "ea886067-8da3-403a-d20b-e7ae8f26d216"
      },
      "execution_count": null,
      "outputs": [
        {
          "output_type": "display_data",
          "data": {
            "text/plain": [
              "  0%|          | 0/1 [00:00<?, ?it/s]"
            ],
            "application/vnd.jupyter.widget-view+json": {
              "version_major": 2,
              "version_minor": 0,
              "model_id": "169d68e572d54a7690fbeac6dc28e9c7"
            }
          },
          "metadata": {}
        }
      ]
    },
    {
      "cell_type": "code",
      "source": [
        "retriever.invoke(\"When was Hikaru Nakamura born?\")"
      ],
      "metadata": {
        "colab": {
          "base_uri": "https://localhost:8080/"
        },
        "id": "x8vnbCqvukwk",
        "outputId": "f4b2824b-b416-49ea-8c41-ee36d02497d4"
      },
      "execution_count": null,
      "outputs": [
        {
          "output_type": "execute_result",
          "data": {
            "text/plain": [
              "[Document(metadata={'score': 0.677066565}, page_content='Hikaru Nakamura: The Speed Chess King and Modern Chess Icon\\nHikaru Nakamura, born on December 9, 1987, in Hirakata, Japan, is one of the most influential and celebrated chess players of the 21st century. As a five-time U.S. Chess Champion, reigning Speed Chess Champion, and a pioneer in the online chess boom, Nakamura has left an indelible mark on the game. Known for his creative playing style, lightning-fast calculation, and engaging personality, he has successfully bridged the gap between traditional chess and modern digital platforms.\\n\\nThis essay delves into Nakamura’s career, achievements, playing style, and his role in popularizing chess for a global audience.\\n\\nEarly Life and Rise to Prominence\\nHikaru Nakamura’s journey into chess began at the age of seven when he was introduced to the game by his stepfather, FIDE Master Sunil Weeramantry. His talent was evident from a young age, and he quickly rose through the ranks of American chess. At just 10 years and 79 days, Nakamura became the youngest player in the U.S. to achieve the title of National Master, breaking a record previously held by Bobby Fischer.\\n\\nIn 2003, at the age of 15, Nakamura earned the Grandmaster (GM) title, making him one of the youngest GMs in the world at the time. That same year, he won the first of his five U.S. Chess Championships, establishing himself as a dominant force in American chess.\\n\\nAchievements and Highlights\\nNakamura’s illustrious career is decorated with numerous accolades and historic achievements:\\n\\n1. U.S. Chess Championships\\nNakamura has won the U.S. Chess Championship five times (2005, 2009, 2012, 2015, and 2019). His victories showcase his versatility, combining tactical brilliance with deep positional understanding.\\n\\n2. World Rapid and Blitz Chess\\nNakamura has consistently been among the top players in rapid and blitz chess. His incredible speed and accuracy have earned him multiple victories in prestigious events, including the Chess.com Speed Chess Championship, where he has dominated opponents like Magnus Carlsen and Ian Nepomniachtchi.\\n\\n3. Grand Chess Tour\\nIn classical chess, Nakamura’s victories include the Gibraltar Chess Festival (multiple times) and tournaments in the Grand Chess Tour series. His consistent performances have made him a formidable opponent in elite-level chess.\\n\\n4. FIDE Candidates Tournament\\nIn 2022, Nakamura made a sensational return to classical chess after a hiatus, finishing fourth in the FIDE Candidates Tournament. This strong showing reaffirmed his place among the world’s elite players.\\n\\nPlaying Style\\nHikaru Nakamura’s playing style is characterized by creativity, resilience, and versatility. He is particularly renowned for his tactical prowess and ability to thrive in chaotic, unbalanced positions. While his early career was marked by hyper-aggressive openings and unconventional strategies, Nakamura has since evolved into a more well-rounded player capable of excelling in both strategic and tactical battles.\\n\\nKey Attributes:\\nSpeed and Calculation: Nakamura’s ability to calculate quickly and accurately in complex positions makes him one of the best blitz and bullet players in the world.\\nOpening Creativity: Nakamura frequently experiments with offbeat openings, keeping his opponents off balance and showcasing his deep preparation.\\nEndgame Mastery: Despite his reputation for aggressive play, Nakamura is also a strong endgame player, often grinding out victories in seemingly equal positions.\\nContribution to Online Chess\\nHikaru Nakamura’s impact extends far beyond over-the-board (OTB) chess. He is widely credited with popularizing online chess and attracting a new generation of fans to the game. His Twitch channel, where he streams chess games, analysis, and commentary, has become a hub for chess enthusiasts worldwide.\\n\\n1. Chess Content Creation\\nNakamura began streaming on Twitch in 2019 and quickly became one of the platform’s most popular chess streamers. His engaging personality, insightful commentary, and interaction with viewers have made chess accessible and entertaining for a broad audience.\\n\\n2. Collaboration with Streamers\\nDuring the 2020 chess boom, Nakamura collaborated with popular streamers and content creators, including xQc and Ludwig, to introduce chess to millions of viewers. His participation in online tournaments like PogChamps further cemented his status as a global ambassador for the game.\\n\\n3. Online Success\\nNakamura’s dominance in online formats, such as Chess.com’s Speed Chess Championship, has solidified his reputation as the undisputed king of speed chess. His rivalry with Magnus Carlsen in online blitz and bullet formats has captivated fans worldwide.\\n\\nLegacy and Influence\\nHikaru Nakamura’s contributions to chess go beyond his competitive achievements. He has played a pivotal role in modernizing the game, bringing it to a younger, tech-savvy audience. His charisma and willingness to engage with fans have made him a relatable figure, breaking the stereotype of chess as an elitist or inaccessible activity.\\n\\n1. Inspiring the Next Generation\\nThrough his streaming and outreach efforts, Nakamura has inspired countless young players to take up chess. His journey from a child prodigy to a global icon serves as a testament to the rewards of hard work and passion.\\n\\n2. Bridge Between Classical and Online Chess\\nNakamura has seamlessly blended the worlds of classical and online chess, proving that both formats can coexist and thrive. His success in both arenas showcases his adaptability and forward-thinking approach to the game.\\n\\nCriticism and Controversy\\nAs with any public figure, Nakamura’s career has not been without criticism. Some traditionalists have questioned his emphasis on online chess, arguing that it detracts from the prestige of classical formats. Others have criticized his outspoken nature, which can sometimes polarize opinions. However, Nakamura’s contributions to the game’s growth and popularity far outweigh these criticisms.\\n\\nConclusion\\nHikaru Nakamura is more than just a chess player; he is a cultural phenomenon. His exceptional skills, combined with his charisma and modern approach, have revolutionized how chess is perceived and consumed. From his achievements in classical chess to his dominance in rapid and blitz formats and his pioneering role in online chess, Nakamura has cemented his legacy as one of the most influential figures in chess history.\\n\\nThrough his dedication to the game and his ability to connect with fans worldwide, Hikaru Nakamura continues to inspire players of all ages and skill levels, ensuring that chess remains as vibrant and exciting as ever.'),\n",
              " Document(metadata={'score': 0.276598811}, page_content='Magnus Carlsen: The Reigning King of Chess\\nMagnus Carlsen, born on November 30, 1990, in Tønsberg, Norway, is widely regarded as one of the greatest chess players of all time. A chess prodigy who rose to international prominence as a teenager, Carlsen has dominated the chess world with his exceptional talent, strategic brilliance, and versatile style of play. He has held the title of World Chess Champion since 2013 and is also a reigning champion in rapid and blitz formats, solidifying his reputation as the undisputed king of modern chess.\\n\\nIn this essay, we will explore Carlsen’s early life and rise to fame, his remarkable achievements, his unique playing style, and his contributions to the global chess community.\\n\\nEarly Life and Chess Beginnings\\nSven Magnus Øen Carlsen was introduced to chess at the age of five by his father, Henrik Carlsen. His early interest in logical games and puzzles, combined with a prodigious memory, quickly set him apart. By the age of eight, Carlsen began competing in tournaments, and his rapid improvement caught the attention of the chess world.\\n\\nIn 2004, at just 13 years old, Carlsen earned the title of Grandmaster (GM), becoming one of the youngest GMs in history. His victory against former World Champion Anatoly Karpov and a drawn game against Garry Kasparov in the same year marked the beginning of his meteoric rise. Dubbed the \"Mozart of Chess,\" Carlsen’s creative and intuitive approach to the game was already evident.\\n\\nAchievements and Dominance\\nMagnus Carlsen’s career is filled with unparalleled achievements, making him one of the most decorated players in chess history.\\n\\n1. World Chess Champion\\nCarlsen won the World Chess Championship in 2013 by defeating Viswanathan Anand. He successfully defended his title in 2014 (against Anand), 2016 (against Sergey Karjakin), 2018 (against Fabiano Caruana), and 2021 (against Ian Nepomniachtchi). His dominance in the championship cycle underscores his exceptional skill in both classical and faster time controls.\\n\\n2. Peak Rating Record\\nIn 2014, Carlsen achieved a peak rating of 2882, the highest in chess history. This milestone is a testament to his consistent superiority over the world’s elite players.\\n\\n3. Triple World Champion\\nCarlsen is a rare Triple Crown winner, holding World Championship titles in classical, rapid, and blitz formats simultaneously on multiple occasions. His mastery across all time controls sets him apart from other champions.\\n\\n4. Tournament Victories\\nCarlsen’s tournament victories include prestigious events like the Tata Steel Chess Tournament (eight-time winner), Sinquefield Cup, and the Grand Chess Tour. His consistent success in open tournaments and elite round-robin events showcases his dominance.\\n\\n5. Online Chess and Innovation\\nIn addition to his over-the-board success, Carlsen has excelled in online chess, winning events like the Chess.com Speed Chess Championship and the Meltwater Champions Chess Tour. These victories highlight his adaptability to modern formats.\\n\\nPlaying Style\\nMagnus Carlsen’s playing style is a unique blend of classical principles and modern creativity. His approach to the game prioritizes flexibility, deep understanding of positions, and relentless pursuit of small advantages.\\n\\nKey Attributes:\\nPositional Mastery: Carlsen is a master of positional play, excelling in maneuvering pieces to optimal squares and exploiting subtle weaknesses in his opponent’s position.\\nEndgame Virtuosity: Widely regarded as one of the greatest endgame players in history, Carlsen has a knack for converting seemingly equal or even inferior positions into victories.\\nUniversal Style: Unlike players who specialize in certain types of positions, Carlsen is equally comfortable in tactical, strategic, and endgame scenarios. This versatility makes him incredibly difficult to prepare against.\\nPsychological Edge: Carlsen often puts immense pressure on his opponents by prolonging games and exploiting even the smallest inaccuracies. His ability to outlast opponents has earned him a reputation as a grinder.\\nContributions to Chess\\nCarlsen’s influence on chess extends far beyond his competitive achievements. He has played a pivotal role in modernizing and popularizing the game, particularly through his entrepreneurial endeavors and charismatic personality.\\n\\n1. Chessable and Play Magnus Group\\nCarlsen founded the Play Magnus Group, which includes platforms like Chessable and the Play Magnus app. These platforms have revolutionized chess learning and practice by making advanced tools accessible to players of all levels.\\n\\n2. Online Chess Boom\\nCarlsen was a key figure in the online chess boom during the COVID-19 pandemic. His participation in online tournaments and collaborations with streaming platforms like Chess.com brought chess to a broader audience, attracting millions of new fans.\\n\\n3. Sponsorship and Media Presence\\nCarlsen’s partnerships with major brands like Unibet and Puma have elevated chess into mainstream sports media. His charismatic interviews and appearances have made chess more relatable and appealing to non-traditional audiences.\\n\\n4. Inspiration to Young Players\\nAs a global icon, Carlsen has inspired countless young players to pursue chess professionally. His journey from a prodigy to a world champion serves as a beacon of hope and determination for aspiring players.\\n\\nLegacy and Impact\\nMagnus Carlsen’s impact on chess is profound and multifaceted. He has not only redefined what it means to be a world champion but also transformed chess into a sport that thrives in the digital age.\\n\\n1. Greatest of All Time Debate\\nCarlsen’s dominance has reignited debates about the greatest chess player of all time. His achievements, combined with his adaptability to modern chess, place him alongside legends like Garry Kasparov, Bobby Fischer, and José Capablanca.\\n\\n2. Endgame Revolution\\nCarlsen’s endgame prowess has set a new standard for excellence in this phase of the game. His games are studied by players worldwide as models of precision and patience.\\n\\n3. Elevating Chess’s Popularity\\nThrough his entrepreneurial ventures and media presence, Carlsen has made chess more accessible and engaging for a global audience. His influence has extended beyond traditional chess circles, bringing the game to new platforms and communities.\\n\\nCriticism and Challenges\\nDespite his immense success, Carlsen’s career has not been without controversy. His decision to relinquish the World Chess Championship title in 2023, citing a lack of motivation, sparked debates about the championship cycle and its relevance. Critics have also questioned his occasional lack of engagement in certain events, arguing that it undermines the prestige of elite tournaments.\\n\\nNevertheless, Carlsen’s contributions and achievements far outweigh these criticisms, and his legacy as a chess ambassador remains intact.\\n\\nConclusion\\nMagnus Carlsen is not just a chess player; he is a phenomenon. His unmatched achievements, universal playing style, and contributions to the chess community have cemented his status as one of the greatest players in history. By dominating both over-the-board and online formats, Carlsen has set a new benchmark for excellence in the modern era of chess.\\n\\nAs a player, entrepreneur, and global ambassador, Carlsen continues to inspire millions around the world. His journey from a young prodigy in Norway to the reigning king of chess serves as a testament to the power of talent, hard work, and a relentless drive for perfection.'),\n",
              " Document(metadata={'score': 0.262310207}, page_content='The King’s Indian Defense in Chess: A Comprehensive Analysis\\nThe King’s Indian Defense (KID) is one of the most dynamic and aggressive openings in chess, used by legendary players like Bobby Fischer, Garry Kasparov, and Hikaru Nakamura. This opening begins with the moves 1. d4 Nf6 2. c4 g6, where Black fianchettos the kingside bishop and allows White to occupy the center with pawns, aiming to strike back later with a thematic pawn break.\\n\\nIn this essay, we’ll explore the historical development, key ideas, main variations, and practical considerations of the King’s Indian Defense. Known for its sharp counterattacking potential, the KID is a weapon for players who thrive on complex, unbalanced positions and decisive play.\\n\\nHistorical Context\\nThe King’s Indian Defense emerged in the early 20th century, gaining popularity through the hypermodern school of chess led by Richard Réti and Aron Nimzowitsch. These pioneers challenged classical principles, arguing that it was not always necessary to occupy the center with pawns in the opening.\\n\\nThe KID rose to prominence during the mid-20th century when Bobby Fischer adopted it as his primary weapon against 1. d4, famously describing it as a defense for \"fighting chess.\" Garry Kasparov further solidified its reputation in the 1980s and 1990s, using it to achieve some of his most brilliant victories. Today, the KID is a favorite of players who aim for aggressive and imbalanced positions.\\n\\nKey Ideas of the King’s Indian Defense\\nThe King’s Indian Defense is rooted in hypermodern principles: Black delays direct central control, allowing White to build a large pawn center with the aim of undermining it later. Black’s setup involves developing pieces to optimal squares and preparing a counterstrike.\\n\\nKey strategic concepts include:\\n\\nDynamic Counterplay: Black often initiates a pawn storm on the kingside (with ...f5 and ...g5) while White’s pawns advance on the queenside.\\nKing Safety: Black’s king is often safely tucked away on g8 behind a solid fianchetto structure, allowing the pieces to mobilize for attack.\\nCentral Control: Black contests White’s center indirectly, using piece pressure and pawn breaks like ...e5 or ...c5.\\nImbalances: The KID creates a clear strategic imbalance, with Black attacking on the kingside and White often counterattacking on the queenside or in the center.\\nMain Variations\\nThe King’s Indian Defense branches into several variations based on White’s approach to the center. Each line presents unique challenges and opportunities for both sides.\\n\\n1. The Classical Variation (3. Nc3 Bg7 4. e4 d6 5. Nf3 O-O 6. Be2 e5)\\nThe Classical Variation is the backbone of the KID. White builds a strong pawn center, and Black counterattacks with thematic pawn breaks like ...f5 or ...d5.\\n\\nPlans for White: White often advances pawns on the queenside with moves like b4, c5, and a4, aiming for a breakthrough while maintaining central control.\\nPlans for Black: Black launches a kingside attack with ...f5, ...g5, and eventually ...f4, leveraging active piece play and tactical opportunities.\\n2. The Fianchetto Variation (3. g3 Bg7 4. Bg2 d6)\\nThe Fianchetto Variation is a solid choice for White, avoiding many of Black’s aggressive plans by fianchettoing the kingside bishop. This line leads to slower, more positional battles.\\n\\nPlans for White: White focuses on controlling the center and preparing for queenside expansion, often aiming to restrict Black’s counterplay.\\nPlans for Black: Black seeks counterplay with moves like ...c5 and ...e5, challenging White’s center and creating piece activity.\\n3. The Four Pawns Attack (3. f4 Bg7 4. e4 d6 5. f4)\\nThe Four Pawns Attack is an aggressive attempt by White to dominate the center with a broad pawn structure. Black must react carefully to avoid being overrun.\\n\\nPlans for White: White pushes the central pawns aggressively, aiming to exploit space and tactical chances.\\nPlans for Black: Black counters with moves like ...c5 and ...f5, undermining White’s pawns and creating counterattacking opportunities.\\n4. The Averbakh Variation (3. Nc3 Bg7 4. e4 d6 5. Be2 O-O 6. Bg5)\\nThe Averbakh Variation focuses on early piece development and pinning Black’s knight on f6. It’s a flexible system that prevents Black from playing ...e5 comfortably.\\n\\nPlans for White: White aims for slow development and piece coordination, preparing to exploit Black’s kingside weaknesses.\\nPlans for Black: Black responds with ...h6 and ...e5, breaking the pin and building a strong center for counterplay.\\nStrengths of the King’s Indian Defense\\nAggressive Counterplay: The KID allows Black to launch dynamic attacks, often leading to decisive play.\\nClear Plans: The thematic nature of the KID makes it easier for Black to formulate a plan, such as a kingside attack or central break.\\nImbalanced Positions: The opening consistently leads to positions with rich tactical and strategic possibilities, suitable for players aiming to win.\\nPsychological Edge: The KID often puts White under pressure, as Black’s counterattacks can be daunting even for experienced players.\\nWeaknesses of the King’s Indian Defense\\nRisky Play: The KID’s aggressive nature often leaves Black’s queenside vulnerable, requiring precise calculation and timing.\\nSpace Deficit: Black frequently operates with less space, which can lead to passive positions if counterplay is delayed.\\nTheoretical Preparation: The KID has a vast amount of theory, and missteps in sharp lines can lead to quick defeats.\\nEndgame Weaknesses: If White successfully repels Black’s attack, the resulting endgames can often favor White due to a more active pawn structure.\\nFamous Games and Players\\nThe King’s Indian Defense has produced some of the most memorable games in chess history. Its legacy is closely tied to players known for their attacking prowess.\\n\\nNotable Games:\\nFischer vs. Gligoric (1970): A masterclass by Fischer demonstrating the KID’s attacking potential.\\nKasparov vs. Karpov (1986): Kasparov’s use of the KID in his World Championship matches highlighted its effectiveness at the highest level.\\nNakamura vs. Aronian (2015): A modern example of the KID’s dynamic possibilities in elite play.\\nPractical Considerations\\nThe King’s Indian Defense is ideal for players who thrive in complex, unbalanced positions. It’s particularly effective in rapid and blitz games, where its aggressive nature can put opponents on the defensive.\\n\\nTo master the KID:\\n\\nStudy games by Fischer, Kasparov, and Nakamura.\\nPractice typical pawn breaks like ...f5 and ...c5.\\nFamiliarize yourself with White’s counterplans to avoid common pitfalls.\\nConclusion\\nThe King’s Indian Defense is a bold and dynamic choice for players looking to fight for the initiative from the very first moves. Its rich history, diverse variations, and aggressive nature make it one of the most exciting openings in chess. Whether you’re a beginner seeking a sharp response to 1. d4 or an advanced player looking for an aggressive weapon, the KID offers a thrilling and challenging battlefield. By embracing its principles and studying its intricacies, players can unlock the full attacking potential of this timeless defense.'),\n",
              " Document(metadata={'score': 0.141153991}, page_content=\"The Caro-Kann Defense in Chess: A Comprehensive Analysis\\nThe Caro-Kann Defense is one of the most respected and robust openings in chess, named after the German players Horatio Caro and Marcus Kann, who analyzed it in the late 19th century. It begins with the moves 1. e4 c6 and is known for its solid structure and strategic depth. The Caro-Kann has been employed by world champions such as José Raúl Capablanca, Anatoly Karpov, and Magnus Carlsen, making it a cornerstone of high-level chess.\\n\\nThis essay explores the history, fundamental ideas, variations, and practical considerations of the Caro-Kann Defense, illustrating why it remains a favorite among players seeking a reliable response to 1. e4.\\n\\nHistorical Context\\nThe Caro-Kann Defense emerged in the 1880s as a serious alternative to the French Defense (1. e4 e6) and the Sicilian Defense (1. e4 c5). It offers Black a way to challenge White’s ambitions while maintaining a resilient pawn structure. Caro and Kann analyzed the idea of advancing the c-pawn early to support the d5 thrust, creating a setup that minimizes weaknesses.\\n\\nThe opening gained prominence in the early 20th century when Capablanca, known for his pragmatic and positional play, used it to great effect. During the latter half of the century, Anatoly Karpov elevated the Caro-Kann to new heights, employing it regularly in World Championship matches and proving its viability against top opposition.\\n\\nKey Ideas of the Caro-Kann Defense\\nThe Caro-Kann is built on principles of solid pawn structures, flexibility, and counterattacking opportunities. Its defining feature is the move 1...c6, preparing to challenge White's central pawn with 2...d5. Unlike the French Defense, where Black’s light-squared bishop is often hemmed in by the pawn chain, the Caro-Kann allows this bishop to develop actively, typically via f5 or g4.\\n\\nKey strategic goals include:\\n\\nStrong Center Control: The move ...d5 contests White’s e4 pawn, aiming for equality in the center without creating structural weaknesses.\\nFlexible Pawn Structure: The pawn chain resulting from ...c6 and ...d5 is highly resilient, providing Black with a long-term defensive resource.\\nBishop Activity: The Caro-Kann allows Black to develop the light-squared bishop outside the pawn chain, avoiding one of the French Defense's key drawbacks.\\nCounterplay Opportunities: Black often builds up pressure against White's advanced pawns or capitalizes on the inherent imbalances in pawn structures.\\nMain Variations\\nThe Caro-Kann Defense branches into several key lines based on White’s second move. Each variation offers unique challenges and opportunities for both sides.\\n\\n1. The Advance Variation (2. d4 d5 3. e5)\\nThe Advance Variation, popularized by players like Bobby Fischer, aims to cramp Black’s position by fixing the pawn structure early. Black typically responds with moves like ...Bf5 or ...c5 to challenge White’s central pawns and undermine their base of support.\\n\\nPlans for White: White seeks to dominate the center and restrict Black's pieces, often expanding on the kingside with moves like f4 and Nf3.\\nPlans for Black: Black counters with pawn breaks like ...c5 or ...f6 to attack the center. The key is to challenge White's space advantage while completing development.\\n2. The Classical Variation (2. d4 d5 3. Nc3 or 3. Nd2)\\nThe Classical Variation emphasizes development and flexibility. After 3. Nc3 (or the similar 3. Nd2), Black typically exchanges pawns on e4, leading to positions where White recaptures with a piece.\\n\\nPlans for White: White enjoys active piece play, often targeting Black's pawns and weak squares in the center.\\nPlans for Black: Black aims for a solid setup with moves like ...Bf5, ...e6, and ...Nd7, ensuring a harmonious development and preparing for counterattacks.\\n3. The Panov-Botvinnik Attack (2. d4 d5 3. exd5 cxd5 4. c4)\\nThe Panov-Botvinnik Attack leads to an isolated queen’s pawn (IQP) position, a rich battlefield for strategic play. White sacrifices pawn structure for dynamic piece activity and central control.\\n\\nPlans for White: White uses the IQP as a springboard for aggressive play, including piece activity and attacking chances on the kingside.\\nPlans for Black: Black targets the IQP, aiming to neutralize White's activity and transition to a favorable endgame.\\n4. The Tartakower (Fantasy) Variation (2. d4 d5 3. f3)\\nThe Fantasy Variation is an aggressive and unorthodox choice by White, aiming to support the e4 pawn and prepare for rapid kingside attacks. Black must tread carefully but can exploit the overextension of White’s pawn structure.\\n\\nPlans for White: White hopes to leverage quick development and kingside activity, often casting early and attacking with moves like Qd2 and O-O-O.\\nPlans for Black: Black counters by striking at the center with moves like ...e6 and ...c5, seeking to undermine White’s ambitious setup.\\nStrengths of the Caro-Kann Defense\\nSolid Pawn Structure: The Caro-Kann’s pawn chain is incredibly resilient, making it hard for White to create lasting weaknesses.\\nStrategic Depth: The defense offers numerous plans and pawn breaks, making it a rich choice for players who enjoy maneuvering and long-term planning.\\nVersatility: Black can adapt the setup based on White’s choices, transitioning between defensive and counterattacking roles seamlessly.\\nEndgame Potential: The Caro-Kann often leads to favorable endgames for Black due to the lack of structural weaknesses and the ability to create active plans.\\nWeaknesses of the Caro-Kann Defense\\nPassive Start: Black's first move, 1...c6, doesn’t develop a piece or directly contest the center, potentially allowing White to seize the initiative.\\nComplex Middlegames: The Advance and Panov-Botvinnik variations can lead to sharp positions where precise calculation is essential.\\nRisk of Stagnation: In certain lines, Black may struggle to generate counterplay, leading to passive positions if not handled correctly.\\nFamous Games and Players\\nThe Caro-Kann has been showcased in numerous high-profile games throughout chess history. Karpov’s victories with the Caro-Kann illustrate its solidity, while more dynamic approaches have been seen in the games of Magnus Carlsen and Hikaru Nakamura.\\n\\nNotable Games:\\nCapablanca vs. Yates (1924): Demonstrates the Caro-Kann’s endgame potential.\\nKarpov vs. Kasparov (1984): A World Championship match that highlighted Karpov’s deep understanding of the defense.\\nCarlsen vs. Anand (2014): Showcases how modern players blend positional and tactical elements in the Caro-Kann.\\nPractical Considerations\\nThe Caro-Kann is a great choice for players at all levels. For beginners, it offers clear strategic goals and a resilient pawn structure. For advanced players, it provides a platform to showcase deep positional understanding and precise calculation.\\n\\nTo master the Caro-Kann:\\n\\nStudy classic games by Karpov and Capablanca.\\nPractice key pawn breaks like ...c5 and ...f6.\\nAnalyze your games to understand recurring themes and mistakes.\\nConclusion\\nThe Caro-Kann Defense remains a timeless choice for players seeking solidity, flexibility, and strategic depth. Its rich history, diverse variations, and adaptability make it a valuable addition to any chess player's repertoire. Whether you're a beginner or a grandmaster, the Caro-Kann offers opportunities to grow as a player while standing firm against the most aggressive attacks. By embracing its principles and exploring its intricacies, players can unlock the full potential of this enduring defense.\")]"
            ]
          },
          "metadata": {},
          "execution_count": 26
        }
      ]
    },
    {
      "cell_type": "code",
      "source": [
        "retriever.invoke(\"When was Hikaru Nakamura born?\")[0]"
      ],
      "metadata": {
        "colab": {
          "base_uri": "https://localhost:8080/"
        },
        "id": "bFOHSZ02t3Aa",
        "outputId": "f6fcbe7c-1af8-4ffa-9db3-d5601d53b83d"
      },
      "execution_count": null,
      "outputs": [
        {
          "output_type": "execute_result",
          "data": {
            "text/plain": [
              "Document(metadata={'score': 0.677066565}, page_content='Hikaru Nakamura: The Speed Chess King and Modern Chess Icon\\nHikaru Nakamura, born on December 9, 1987, in Hirakata, Japan, is one of the most influential and celebrated chess players of the 21st century. As a five-time U.S. Chess Champion, reigning Speed Chess Champion, and a pioneer in the online chess boom, Nakamura has left an indelible mark on the game. Known for his creative playing style, lightning-fast calculation, and engaging personality, he has successfully bridged the gap between traditional chess and modern digital platforms.\\n\\nThis essay delves into Nakamura’s career, achievements, playing style, and his role in popularizing chess for a global audience.\\n\\nEarly Life and Rise to Prominence\\nHikaru Nakamura’s journey into chess began at the age of seven when he was introduced to the game by his stepfather, FIDE Master Sunil Weeramantry. His talent was evident from a young age, and he quickly rose through the ranks of American chess. At just 10 years and 79 days, Nakamura became the youngest player in the U.S. to achieve the title of National Master, breaking a record previously held by Bobby Fischer.\\n\\nIn 2003, at the age of 15, Nakamura earned the Grandmaster (GM) title, making him one of the youngest GMs in the world at the time. That same year, he won the first of his five U.S. Chess Championships, establishing himself as a dominant force in American chess.\\n\\nAchievements and Highlights\\nNakamura’s illustrious career is decorated with numerous accolades and historic achievements:\\n\\n1. U.S. Chess Championships\\nNakamura has won the U.S. Chess Championship five times (2005, 2009, 2012, 2015, and 2019). His victories showcase his versatility, combining tactical brilliance with deep positional understanding.\\n\\n2. World Rapid and Blitz Chess\\nNakamura has consistently been among the top players in rapid and blitz chess. His incredible speed and accuracy have earned him multiple victories in prestigious events, including the Chess.com Speed Chess Championship, where he has dominated opponents like Magnus Carlsen and Ian Nepomniachtchi.\\n\\n3. Grand Chess Tour\\nIn classical chess, Nakamura’s victories include the Gibraltar Chess Festival (multiple times) and tournaments in the Grand Chess Tour series. His consistent performances have made him a formidable opponent in elite-level chess.\\n\\n4. FIDE Candidates Tournament\\nIn 2022, Nakamura made a sensational return to classical chess after a hiatus, finishing fourth in the FIDE Candidates Tournament. This strong showing reaffirmed his place among the world’s elite players.\\n\\nPlaying Style\\nHikaru Nakamura’s playing style is characterized by creativity, resilience, and versatility. He is particularly renowned for his tactical prowess and ability to thrive in chaotic, unbalanced positions. While his early career was marked by hyper-aggressive openings and unconventional strategies, Nakamura has since evolved into a more well-rounded player capable of excelling in both strategic and tactical battles.\\n\\nKey Attributes:\\nSpeed and Calculation: Nakamura’s ability to calculate quickly and accurately in complex positions makes him one of the best blitz and bullet players in the world.\\nOpening Creativity: Nakamura frequently experiments with offbeat openings, keeping his opponents off balance and showcasing his deep preparation.\\nEndgame Mastery: Despite his reputation for aggressive play, Nakamura is also a strong endgame player, often grinding out victories in seemingly equal positions.\\nContribution to Online Chess\\nHikaru Nakamura’s impact extends far beyond over-the-board (OTB) chess. He is widely credited with popularizing online chess and attracting a new generation of fans to the game. His Twitch channel, where he streams chess games, analysis, and commentary, has become a hub for chess enthusiasts worldwide.\\n\\n1. Chess Content Creation\\nNakamura began streaming on Twitch in 2019 and quickly became one of the platform’s most popular chess streamers. His engaging personality, insightful commentary, and interaction with viewers have made chess accessible and entertaining for a broad audience.\\n\\n2. Collaboration with Streamers\\nDuring the 2020 chess boom, Nakamura collaborated with popular streamers and content creators, including xQc and Ludwig, to introduce chess to millions of viewers. His participation in online tournaments like PogChamps further cemented his status as a global ambassador for the game.\\n\\n3. Online Success\\nNakamura’s dominance in online formats, such as Chess.com’s Speed Chess Championship, has solidified his reputation as the undisputed king of speed chess. His rivalry with Magnus Carlsen in online blitz and bullet formats has captivated fans worldwide.\\n\\nLegacy and Influence\\nHikaru Nakamura’s contributions to chess go beyond his competitive achievements. He has played a pivotal role in modernizing the game, bringing it to a younger, tech-savvy audience. His charisma and willingness to engage with fans have made him a relatable figure, breaking the stereotype of chess as an elitist or inaccessible activity.\\n\\n1. Inspiring the Next Generation\\nThrough his streaming and outreach efforts, Nakamura has inspired countless young players to take up chess. His journey from a child prodigy to a global icon serves as a testament to the rewards of hard work and passion.\\n\\n2. Bridge Between Classical and Online Chess\\nNakamura has seamlessly blended the worlds of classical and online chess, proving that both formats can coexist and thrive. His success in both arenas showcases his adaptability and forward-thinking approach to the game.\\n\\nCriticism and Controversy\\nAs with any public figure, Nakamura’s career has not been without criticism. Some traditionalists have questioned his emphasis on online chess, arguing that it detracts from the prestige of classical formats. Others have criticized his outspoken nature, which can sometimes polarize opinions. However, Nakamura’s contributions to the game’s growth and popularity far outweigh these criticisms.\\n\\nConclusion\\nHikaru Nakamura is more than just a chess player; he is a cultural phenomenon. His exceptional skills, combined with his charisma and modern approach, have revolutionized how chess is perceived and consumed. From his achievements in classical chess to his dominance in rapid and blitz formats and his pioneering role in online chess, Nakamura has cemented his legacy as one of the most influential figures in chess history.\\n\\nThrough his dedication to the game and his ability to connect with fans worldwide, Hikaru Nakamura continues to inspire players of all ages and skill levels, ensuring that chess remains as vibrant and exciting as ever.')"
            ]
          },
          "metadata": {},
          "execution_count": 24
        }
      ]
    },
    {
      "cell_type": "code",
      "source": [
        "retriever.invoke(\"When was Magnus Carlsen born?\")[0]"
      ],
      "metadata": {
        "colab": {
          "base_uri": "https://localhost:8080/"
        },
        "id": "pr_AjeE7uUQC",
        "outputId": "dab0abf1-9cf5-4e70-8c71-ff4f16e1711e"
      },
      "execution_count": null,
      "outputs": [
        {
          "output_type": "execute_result",
          "data": {
            "text/plain": [
              "Document(metadata={'score': 0.667161345}, page_content='Magnus Carlsen: The Reigning King of Chess\\nMagnus Carlsen, born on November 30, 1990, in Tønsberg, Norway, is widely regarded as one of the greatest chess players of all time. A chess prodigy who rose to international prominence as a teenager, Carlsen has dominated the chess world with his exceptional talent, strategic brilliance, and versatile style of play. He has held the title of World Chess Champion since 2013 and is also a reigning champion in rapid and blitz formats, solidifying his reputation as the undisputed king of modern chess.\\n\\nIn this essay, we will explore Carlsen’s early life and rise to fame, his remarkable achievements, his unique playing style, and his contributions to the global chess community.\\n\\nEarly Life and Chess Beginnings\\nSven Magnus Øen Carlsen was introduced to chess at the age of five by his father, Henrik Carlsen. His early interest in logical games and puzzles, combined with a prodigious memory, quickly set him apart. By the age of eight, Carlsen began competing in tournaments, and his rapid improvement caught the attention of the chess world.\\n\\nIn 2004, at just 13 years old, Carlsen earned the title of Grandmaster (GM), becoming one of the youngest GMs in history. His victory against former World Champion Anatoly Karpov and a drawn game against Garry Kasparov in the same year marked the beginning of his meteoric rise. Dubbed the \"Mozart of Chess,\" Carlsen’s creative and intuitive approach to the game was already evident.\\n\\nAchievements and Dominance\\nMagnus Carlsen’s career is filled with unparalleled achievements, making him one of the most decorated players in chess history.\\n\\n1. World Chess Champion\\nCarlsen won the World Chess Championship in 2013 by defeating Viswanathan Anand. He successfully defended his title in 2014 (against Anand), 2016 (against Sergey Karjakin), 2018 (against Fabiano Caruana), and 2021 (against Ian Nepomniachtchi). His dominance in the championship cycle underscores his exceptional skill in both classical and faster time controls.\\n\\n2. Peak Rating Record\\nIn 2014, Carlsen achieved a peak rating of 2882, the highest in chess history. This milestone is a testament to his consistent superiority over the world’s elite players.\\n\\n3. Triple World Champion\\nCarlsen is a rare Triple Crown winner, holding World Championship titles in classical, rapid, and blitz formats simultaneously on multiple occasions. His mastery across all time controls sets him apart from other champions.\\n\\n4. Tournament Victories\\nCarlsen’s tournament victories include prestigious events like the Tata Steel Chess Tournament (eight-time winner), Sinquefield Cup, and the Grand Chess Tour. His consistent success in open tournaments and elite round-robin events showcases his dominance.\\n\\n5. Online Chess and Innovation\\nIn addition to his over-the-board success, Carlsen has excelled in online chess, winning events like the Chess.com Speed Chess Championship and the Meltwater Champions Chess Tour. These victories highlight his adaptability to modern formats.\\n\\nPlaying Style\\nMagnus Carlsen’s playing style is a unique blend of classical principles and modern creativity. His approach to the game prioritizes flexibility, deep understanding of positions, and relentless pursuit of small advantages.\\n\\nKey Attributes:\\nPositional Mastery: Carlsen is a master of positional play, excelling in maneuvering pieces to optimal squares and exploiting subtle weaknesses in his opponent’s position.\\nEndgame Virtuosity: Widely regarded as one of the greatest endgame players in history, Carlsen has a knack for converting seemingly equal or even inferior positions into victories.\\nUniversal Style: Unlike players who specialize in certain types of positions, Carlsen is equally comfortable in tactical, strategic, and endgame scenarios. This versatility makes him incredibly difficult to prepare against.\\nPsychological Edge: Carlsen often puts immense pressure on his opponents by prolonging games and exploiting even the smallest inaccuracies. His ability to outlast opponents has earned him a reputation as a grinder.\\nContributions to Chess\\nCarlsen’s influence on chess extends far beyond his competitive achievements. He has played a pivotal role in modernizing and popularizing the game, particularly through his entrepreneurial endeavors and charismatic personality.\\n\\n1. Chessable and Play Magnus Group\\nCarlsen founded the Play Magnus Group, which includes platforms like Chessable and the Play Magnus app. These platforms have revolutionized chess learning and practice by making advanced tools accessible to players of all levels.\\n\\n2. Online Chess Boom\\nCarlsen was a key figure in the online chess boom during the COVID-19 pandemic. His participation in online tournaments and collaborations with streaming platforms like Chess.com brought chess to a broader audience, attracting millions of new fans.\\n\\n3. Sponsorship and Media Presence\\nCarlsen’s partnerships with major brands like Unibet and Puma have elevated chess into mainstream sports media. His charismatic interviews and appearances have made chess more relatable and appealing to non-traditional audiences.\\n\\n4. Inspiration to Young Players\\nAs a global icon, Carlsen has inspired countless young players to pursue chess professionally. His journey from a prodigy to a world champion serves as a beacon of hope and determination for aspiring players.\\n\\nLegacy and Impact\\nMagnus Carlsen’s impact on chess is profound and multifaceted. He has not only redefined what it means to be a world champion but also transformed chess into a sport that thrives in the digital age.\\n\\n1. Greatest of All Time Debate\\nCarlsen’s dominance has reignited debates about the greatest chess player of all time. His achievements, combined with his adaptability to modern chess, place him alongside legends like Garry Kasparov, Bobby Fischer, and José Capablanca.\\n\\n2. Endgame Revolution\\nCarlsen’s endgame prowess has set a new standard for excellence in this phase of the game. His games are studied by players worldwide as models of precision and patience.\\n\\n3. Elevating Chess’s Popularity\\nThrough his entrepreneurial ventures and media presence, Carlsen has made chess more accessible and engaging for a global audience. His influence has extended beyond traditional chess circles, bringing the game to new platforms and communities.\\n\\nCriticism and Challenges\\nDespite his immense success, Carlsen’s career has not been without controversy. His decision to relinquish the World Chess Championship title in 2023, citing a lack of motivation, sparked debates about the championship cycle and its relevance. Critics have also questioned his occasional lack of engagement in certain events, arguing that it undermines the prestige of elite tournaments.\\n\\nNevertheless, Carlsen’s contributions and achievements far outweigh these criticisms, and his legacy as a chess ambassador remains intact.\\n\\nConclusion\\nMagnus Carlsen is not just a chess player; he is a phenomenon. His unmatched achievements, universal playing style, and contributions to the chess community have cemented his status as one of the greatest players in history. By dominating both over-the-board and online formats, Carlsen has set a new benchmark for excellence in the modern era of chess.\\n\\nAs a player, entrepreneur, and global ambassador, Carlsen continues to inspire millions around the world. His journey from a young prodigy in Norway to the reigning king of chess serves as a testament to the power of talent, hard work, and a relentless drive for perfection.')"
            ]
          },
          "metadata": {},
          "execution_count": 25
        }
      ]
    },
    {
      "cell_type": "code",
      "source": [
        "import google.generativeai as genai\n",
        "genai.configure(api_key=\"your-gemini-api-key\")"
      ],
      "metadata": {
        "id": "7fxnDI5Kuiv8"
      },
      "execution_count": null,
      "outputs": []
    },
    {
      "cell_type": "code",
      "source": [
        "def implement_rag(query, k=2):\n",
        "  top_k_relevant_documents = retriever.invoke(query)[:k]\n",
        "  prompt = f'''You are a highly knowledgeable assistant that answers questions based on provided context.\n",
        "  Use the context below to generate an accurate and concise response to the query.\n",
        "  If the context does not contain enough information, respond with \"I don't know\" or suggest a follow-up.\n",
        "  ### Query:\n",
        "  {query}\n",
        "\n",
        "  ### Relevant Documents:\n",
        "  {top_k_relevant_documents}\n",
        "\n",
        "  ### Instructions:\n",
        "  - Base your answer only on the relevant documents provided.\n",
        "  - If there are conflicting pieces of information, prioritize the most detailed and credible one.\n",
        "  - Provide a detailed explanation if required.\n",
        "  - Do not include information outside the context.\n",
        "\n",
        "  ### Response:\n",
        "  '''\n",
        "  model = genai.GenerativeModel('gemini-1.5-flash')\n",
        "  response = model.generate_content(prompt)\n",
        "  generated_content = response.text\n",
        "\n",
        "  return generated_content"
      ],
      "metadata": {
        "id": "PSzleiODwsOO"
      },
      "execution_count": null,
      "outputs": []
    },
    {
      "cell_type": "code",
      "source": [
        "query = input(\"Enter your question: \")\n",
        "implement_rag(query)"
      ],
      "metadata": {
        "colab": {
          "base_uri": "https://localhost:8080/",
          "height": 261
        },
        "id": "bL8qsI2IxNHa",
        "outputId": "a155724a-b7df-44fc-84cc-e20d24d49fcd"
      },
      "execution_count": null,
      "outputs": [
        {
          "name": "stdout",
          "output_type": "stream",
          "text": [
            "Enter your question: When was Hikaru born?\n"
          ]
        },
        {
          "output_type": "stream",
          "name": "stderr",
          "text": [
            "ERROR:tornado.access:503 POST /v1beta/models/gemini-1.5-flash:generateContent?%24alt=json%3Benum-encoding%3Dint (127.0.0.1) 2706.62ms\n",
            "ERROR:tornado.access:503 POST /v1beta/models/gemini-1.5-flash:generateContent?%24alt=json%3Benum-encoding%3Dint (127.0.0.1) 1847.62ms\n",
            "ERROR:tornado.access:503 POST /v1beta/models/gemini-1.5-flash:generateContent?%24alt=json%3Benum-encoding%3Dint (127.0.0.1) 1491.26ms\n",
            "ERROR:tornado.access:503 POST /v1beta/models/gemini-1.5-flash:generateContent?%24alt=json%3Benum-encoding%3Dint (127.0.0.1) 2525.66ms\n",
            "ERROR:tornado.access:503 POST /v1beta/models/gemini-1.5-flash:generateContent?%24alt=json%3Benum-encoding%3Dint (127.0.0.1) 3489.91ms\n",
            "ERROR:tornado.access:503 POST /v1beta/models/gemini-1.5-flash:generateContent?%24alt=json%3Benum-encoding%3Dint (127.0.0.1) 1340.18ms\n",
            "ERROR:tornado.access:503 POST /v1beta/models/gemini-1.5-flash:generateContent?%24alt=json%3Benum-encoding%3Dint (127.0.0.1) 2732.01ms\n",
            "ERROR:tornado.access:503 POST /v1beta/models/gemini-1.5-flash:generateContent?%24alt=json%3Benum-encoding%3Dint (127.0.0.1) 1339.38ms\n",
            "ERROR:tornado.access:503 POST /v1beta/models/gemini-1.5-flash:generateContent?%24alt=json%3Benum-encoding%3Dint (127.0.0.1) 1240.56ms\n",
            "ERROR:tornado.access:503 POST /v1beta/models/gemini-1.5-flash:generateContent?%24alt=json%3Benum-encoding%3Dint (127.0.0.1) 1188.00ms\n",
            "ERROR:tornado.access:503 POST /v1beta/models/gemini-1.5-flash:generateContent?%24alt=json%3Benum-encoding%3Dint (127.0.0.1) 2122.36ms\n",
            "ERROR:tornado.access:503 POST /v1beta/models/gemini-1.5-flash:generateContent?%24alt=json%3Benum-encoding%3Dint (127.0.0.1) 2186.99ms\n"
          ]
        },
        {
          "output_type": "execute_result",
          "data": {
            "text/plain": [
              "'Hikaru Nakamura was born on December 9, 1987, in Hirakata, Japan.\\n'"
            ],
            "application/vnd.google.colaboratory.intrinsic+json": {
              "type": "string"
            }
          },
          "metadata": {},
          "execution_count": 31
        }
      ]
    },
    {
      "cell_type": "code",
      "source": [
        "query = input(\"Enter your question: \")\n",
        "implement_rag(query)"
      ],
      "metadata": {
        "colab": {
          "base_uri": "https://localhost:8080/",
          "height": 53
        },
        "id": "BmFsZV4yxZFf",
        "outputId": "a3f3d958-29ea-40a7-c3b1-5d00e4f8a415"
      },
      "execution_count": null,
      "outputs": [
        {
          "name": "stdout",
          "output_type": "stream",
          "text": [
            "Enter your question: What is the most common follow up in the Caro Kann Defense played by white?\n"
          ]
        },
        {
          "output_type": "execute_result",
          "data": {
            "text/plain": [
              "\"The provided text describes several variations of the Caro-Kann Defense, but it does not state which follow-up move by White is most common.  Therefore, I don't know.\\n\""
            ],
            "application/vnd.google.colaboratory.intrinsic+json": {
              "type": "string"
            }
          },
          "metadata": {},
          "execution_count": 32
        }
      ]
    },
    {
      "cell_type": "code",
      "source": [
        "query = input(\"Enter your question: \")\n",
        "implement_rag(query)"
      ],
      "metadata": {
        "colab": {
          "base_uri": "https://localhost:8080/",
          "height": 70
        },
        "id": "a-r7f_JKyyrt",
        "outputId": "3aee4ed3-df21-41f9-8c22-992e7b32035c"
      },
      "execution_count": null,
      "outputs": [
        {
          "name": "stdout",
          "output_type": "stream",
          "text": [
            "Enter your question: How does the Caro Kann defense opening begin?\n"
          ]
        },
        {
          "output_type": "stream",
          "name": "stderr",
          "text": [
            "ERROR:tornado.access:503 POST /v1beta/models/gemini-1.5-flash:generateContent?%24alt=json%3Benum-encoding%3Dint (127.0.0.1) 2223.40ms\n"
          ]
        },
        {
          "output_type": "execute_result",
          "data": {
            "text/plain": [
              "'The Caro-Kann Defense begins with the moves 1. e4 c6.\\n'"
            ],
            "application/vnd.google.colaboratory.intrinsic+json": {
              "type": "string"
            }
          },
          "metadata": {},
          "execution_count": 33
        }
      ]
    },
    {
      "cell_type": "code",
      "source": [
        "query = input(\"Enter your question: \")\n",
        "implement_rag(query)"
      ],
      "metadata": {
        "colab": {
          "base_uri": "https://localhost:8080/",
          "height": 88
        },
        "id": "HjGCBKtIyzP6",
        "outputId": "d1079c1c-e91f-451c-efbc-1e0fadf1963a"
      },
      "execution_count": null,
      "outputs": [
        {
          "name": "stdout",
          "output_type": "stream",
          "text": [
            "Enter your question: what are the first 4 moves played in the King's Indian Defense?\n"
          ]
        },
        {
          "output_type": "stream",
          "name": "stderr",
          "text": [
            "ERROR:tornado.access:503 POST /v1beta/models/gemini-1.5-flash:generateContent?%24alt=json%3Benum-encoding%3Dint (127.0.0.1) 2322.66ms\n",
            "ERROR:tornado.access:503 POST /v1beta/models/gemini-1.5-flash:generateContent?%24alt=json%3Benum-encoding%3Dint (127.0.0.1) 1566.17ms\n"
          ]
        },
        {
          "output_type": "execute_result",
          "data": {
            "text/plain": [
              "\"The first four moves of the King's Indian Defense are 1. d4 Nf6 2. c4 g6.\\n\""
            ],
            "application/vnd.google.colaboratory.intrinsic+json": {
              "type": "string"
            }
          },
          "metadata": {},
          "execution_count": 34
        }
      ]
    }
  ]
}